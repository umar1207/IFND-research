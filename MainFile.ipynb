{
 "cells": [
  {
   "cell_type": "code",
   "execution_count": 3,
   "metadata": {
    "id": "KRDC1SzwC1lm"
   },
   "outputs": [],
   "source": [
    "import tensorflow as tf\n",
    "import pandas as pd\n",
    "import numpy as np\n",
    "import matplotlib.pyplot as plt\n",
    "import seaborn as sns\n",
    "from wordcloud import WordCloud, STOPWORDS\n",
    "import nltk\n",
    "import re\n",
    "from nltk.stem import PorterStemmer, WordNetLemmatizer\n",
    "from nltk.corpus import stopwords\n",
    "from nltk.tokenize import word_tokenize, sent_tokenize\n",
    "import gensim\n",
    "from gensim.utils import simple_preprocess\n",
    "from gensim.parsing.preprocessing import STOPWORDS\n",
    "# import keras\n",
    "from tensorflow.keras.preprocessing.text import one_hot, Tokenizer\n",
    "from tensorflow.keras.preprocessing.sequence import pad_sequences\n",
    "from tensorflow.keras.models import Sequential\n",
    "from tensorflow.keras.layers import Dense, Flatten, Embedding, Input, LSTM, Conv1D, MaxPool1D, Bidirectional\n",
    "from tensorflow.keras.models import Model"
   ]
  },
  {
   "cell_type": "code",
   "execution_count": 4,
   "metadata": {
    "id": "3Ap1ghpOC-n5"
   },
   "outputs": [],
   "source": [
    "# from google.colab import drive\n",
    "# drive.mount('/content/drive')"
   ]
  },
  {
   "cell_type": "code",
   "execution_count": 5,
   "metadata": {
    "id": "qN0u9pB2DIsZ"
   },
   "outputs": [],
   "source": [
    "# path = '/content/drive/MyDrive/FakeNewsDataset/IFND/IFND1.csv'"
   ]
  },
  {
   "cell_type": "code",
   "execution_count": 6,
   "metadata": {
    "id": "a7gT6IBCDTsB"
   },
   "outputs": [],
   "source": [
    "df = pd.read_csv('IFND.csv', encoding='latin-1')"
   ]
  },
  {
   "cell_type": "code",
   "execution_count": 7,
   "metadata": {
    "colab": {
     "base_uri": "https://localhost:8080/"
    },
    "id": "9ms3v6SuDYAA",
    "outputId": "15d365ea-558a-4094-b067-cb7c691693ae"
   },
   "outputs": [
    {
     "name": "stderr",
     "output_type": "stream",
     "text": [
      "[nltk_data] Error loading stopwords: <urlopen error [Errno 54]\n",
      "[nltk_data]     Connection reset by peer>\n"
     ]
    },
    {
     "data": {
      "text/plain": [
       "False"
      ]
     },
     "execution_count": 7,
     "metadata": {},
     "output_type": "execute_result"
    }
   ],
   "source": [
    "# download stopwords\n",
    "nltk.download(\"stopwords\")\n"
   ]
  },
  {
   "cell_type": "code",
   "execution_count": 8,
   "metadata": {
    "colab": {
     "base_uri": "https://localhost:8080/",
     "height": 980
    },
    "id": "obyq8NPt4Drl",
    "outputId": "7bc951d0-6b9d-4e72-b335-3ffbe40dffe9"
   },
   "outputs": [
    {
     "data": {
      "text/html": [
       "<div>\n",
       "<style scoped>\n",
       "    .dataframe tbody tr th:only-of-type {\n",
       "        vertical-align: middle;\n",
       "    }\n",
       "\n",
       "    .dataframe tbody tr th {\n",
       "        vertical-align: top;\n",
       "    }\n",
       "\n",
       "    .dataframe thead th {\n",
       "        text-align: right;\n",
       "    }\n",
       "</style>\n",
       "<table border=\"1\" class=\"dataframe\">\n",
       "  <thead>\n",
       "    <tr style=\"text-align: right;\">\n",
       "      <th></th>\n",
       "      <th>id</th>\n",
       "      <th>Statement</th>\n",
       "      <th>Image</th>\n",
       "      <th>Web</th>\n",
       "      <th>Category</th>\n",
       "      <th>Date</th>\n",
       "      <th>Label</th>\n",
       "    </tr>\n",
       "  </thead>\n",
       "  <tbody>\n",
       "    <tr>\n",
       "      <th>0</th>\n",
       "      <td>2</td>\n",
       "      <td>WHO praises India's Aarogya Setu app, says it ...</td>\n",
       "      <td>https://cdn.dnaindia.com/sites/default/files/s...</td>\n",
       "      <td>DNAINDIA</td>\n",
       "      <td>COVID-19</td>\n",
       "      <td>Oct-20</td>\n",
       "      <td>TRUE</td>\n",
       "    </tr>\n",
       "    <tr>\n",
       "      <th>1</th>\n",
       "      <td>3</td>\n",
       "      <td>In Delhi, Deputy US Secretary of State Stephen...</td>\n",
       "      <td>https://cdn.dnaindia.com/sites/default/files/s...</td>\n",
       "      <td>DNAINDIA</td>\n",
       "      <td>VIOLENCE</td>\n",
       "      <td>Oct-20</td>\n",
       "      <td>TRUE</td>\n",
       "    </tr>\n",
       "    <tr>\n",
       "      <th>2</th>\n",
       "      <td>4</td>\n",
       "      <td>LAC tensions: China's strategy behind delibera...</td>\n",
       "      <td>https://cdn.dnaindia.com/sites/default/files/s...</td>\n",
       "      <td>DNAINDIA</td>\n",
       "      <td>TERROR</td>\n",
       "      <td>Oct-20</td>\n",
       "      <td>TRUE</td>\n",
       "    </tr>\n",
       "    <tr>\n",
       "      <th>3</th>\n",
       "      <td>5</td>\n",
       "      <td>India has signed 250 documents on Space cooper...</td>\n",
       "      <td>https://cdn.dnaindia.com/sites/default/files/s...</td>\n",
       "      <td>DNAINDIA</td>\n",
       "      <td>COVID-19</td>\n",
       "      <td>Oct-20</td>\n",
       "      <td>TRUE</td>\n",
       "    </tr>\n",
       "    <tr>\n",
       "      <th>4</th>\n",
       "      <td>6</td>\n",
       "      <td>Tamil Nadu chief minister's mother passes away...</td>\n",
       "      <td>https://cdn.dnaindia.com/sites/default/files/s...</td>\n",
       "      <td>DNAINDIA</td>\n",
       "      <td>ELECTION</td>\n",
       "      <td>Oct-20</td>\n",
       "      <td>TRUE</td>\n",
       "    </tr>\n",
       "    <tr>\n",
       "      <th>...</th>\n",
       "      <td>...</td>\n",
       "      <td>...</td>\n",
       "      <td>...</td>\n",
       "      <td>...</td>\n",
       "      <td>...</td>\n",
       "      <td>...</td>\n",
       "      <td>...</td>\n",
       "    </tr>\n",
       "    <tr>\n",
       "      <th>56709</th>\n",
       "      <td>56711</td>\n",
       "      <td>Fact Check: This is not Bruce Lee playing ping...</td>\n",
       "      <td>https://akm-img-a-in.tosshub.com/indiatoday/im...</td>\n",
       "      <td>INDIATODAY</td>\n",
       "      <td>MISLEADING</td>\n",
       "      <td>11-2019</td>\n",
       "      <td>Fake</td>\n",
       "    </tr>\n",
       "    <tr>\n",
       "      <th>56710</th>\n",
       "      <td>56712</td>\n",
       "      <td>Fact Check: Did Japan construct this bridge in...</td>\n",
       "      <td>https://akm-img-a-in.tosshub.com/indiatoday/im...</td>\n",
       "      <td>INDIATODAY</td>\n",
       "      <td>COVID-19</td>\n",
       "      <td>10-2019</td>\n",
       "      <td>Fake</td>\n",
       "    </tr>\n",
       "    <tr>\n",
       "      <th>56711</th>\n",
       "      <td>56713</td>\n",
       "      <td>Fact Check: Viral video of Mexico earthquake i...</td>\n",
       "      <td>https://akm-img-a-in.tosshub.com/indiatoday/im...</td>\n",
       "      <td>INDIATODAY</td>\n",
       "      <td>MISLEADING</td>\n",
       "      <td>10-2019</td>\n",
       "      <td>Fake</td>\n",
       "    </tr>\n",
       "    <tr>\n",
       "      <th>56712</th>\n",
       "      <td>56714</td>\n",
       "      <td>Fact Check: Ballet performance by Chinese coup...</td>\n",
       "      <td>https://akm-img-a-in.tosshub.com/indiatoday/im...</td>\n",
       "      <td>INDIATODAY</td>\n",
       "      <td>COVID-19</td>\n",
       "      <td>9-2019</td>\n",
       "      <td>Fake</td>\n",
       "    </tr>\n",
       "    <tr>\n",
       "      <th>56713</th>\n",
       "      <td>56715</td>\n",
       "      <td>Fact Check: Is this little boy crossing into J...</td>\n",
       "      <td>https://akm-img-a-in.tosshub.com/indiatoday/im...</td>\n",
       "      <td>INDIATODAY</td>\n",
       "      <td>MISLEADING</td>\n",
       "      <td>9-2019</td>\n",
       "      <td>Fake</td>\n",
       "    </tr>\n",
       "  </tbody>\n",
       "</table>\n",
       "<p>56714 rows × 7 columns</p>\n",
       "</div>"
      ],
      "text/plain": [
       "          id                                          Statement  \\\n",
       "0          2  WHO praises India's Aarogya Setu app, says it ...   \n",
       "1          3  In Delhi, Deputy US Secretary of State Stephen...   \n",
       "2          4  LAC tensions: China's strategy behind delibera...   \n",
       "3          5  India has signed 250 documents on Space cooper...   \n",
       "4          6  Tamil Nadu chief minister's mother passes away...   \n",
       "...      ...                                                ...   \n",
       "56709  56711  Fact Check: This is not Bruce Lee playing ping...   \n",
       "56710  56712  Fact Check: Did Japan construct this bridge in...   \n",
       "56711  56713  Fact Check: Viral video of Mexico earthquake i...   \n",
       "56712  56714  Fact Check: Ballet performance by Chinese coup...   \n",
       "56713  56715  Fact Check: Is this little boy crossing into J...   \n",
       "\n",
       "                                                   Image         Web  \\\n",
       "0      https://cdn.dnaindia.com/sites/default/files/s...    DNAINDIA   \n",
       "1      https://cdn.dnaindia.com/sites/default/files/s...    DNAINDIA   \n",
       "2      https://cdn.dnaindia.com/sites/default/files/s...    DNAINDIA   \n",
       "3      https://cdn.dnaindia.com/sites/default/files/s...    DNAINDIA   \n",
       "4      https://cdn.dnaindia.com/sites/default/files/s...    DNAINDIA   \n",
       "...                                                  ...         ...   \n",
       "56709  https://akm-img-a-in.tosshub.com/indiatoday/im...  INDIATODAY   \n",
       "56710  https://akm-img-a-in.tosshub.com/indiatoday/im...  INDIATODAY   \n",
       "56711  https://akm-img-a-in.tosshub.com/indiatoday/im...  INDIATODAY   \n",
       "56712  https://akm-img-a-in.tosshub.com/indiatoday/im...  INDIATODAY   \n",
       "56713  https://akm-img-a-in.tosshub.com/indiatoday/im...  INDIATODAY   \n",
       "\n",
       "         Category     Date Label  \n",
       "0        COVID-19   Oct-20  TRUE  \n",
       "1        VIOLENCE   Oct-20  TRUE  \n",
       "2          TERROR   Oct-20  TRUE  \n",
       "3        COVID-19   Oct-20  TRUE  \n",
       "4        ELECTION   Oct-20  TRUE  \n",
       "...           ...      ...   ...  \n",
       "56709  MISLEADING  11-2019  Fake  \n",
       "56710    COVID-19  10-2019  Fake  \n",
       "56711  MISLEADING  10-2019  Fake  \n",
       "56712    COVID-19   9-2019  Fake  \n",
       "56713  MISLEADING   9-2019  Fake  \n",
       "\n",
       "[56714 rows x 7 columns]"
      ]
     },
     "execution_count": 8,
     "metadata": {},
     "output_type": "execute_result"
    }
   ],
   "source": [
    "df"
   ]
  },
  {
   "cell_type": "code",
   "execution_count": 9,
   "metadata": {
    "colab": {
     "base_uri": "https://localhost:8080/",
     "height": 422
    },
    "id": "OaWo_6-NqPvO",
    "outputId": "8b7a2a02-4b0c-4b16-9ca3-af9e570530a5"
   },
   "outputs": [
    {
     "data": {
      "image/png": "[encoded data removed]",
      "text/plain": [
       "<Figure size 500x500 with 1 Axes>"
      ]
     },
     "metadata": {},
     "output_type": "display_data"
    }
   ],
   "source": [
    "fig = plt.figure(figsize=(5, 5))\n",
    "labels = 'True', 'Fake'\n",
    "sizes = [df[df[\"Label\"]==\"TRUE\"].shape[0], df[df[\"Label\"]==\"Fake\"].shape[0]]\n",
    "plt.pie(sizes, labels=labels, autopct='%1.1f%%',\n",
    "        shadow=True, startangle=90)\n",
    "plt.axis('equal')\n",
    "plt.show()"
   ]
  },
  {
   "cell_type": "code",
   "execution_count": 10,
   "metadata": {
    "id": "BzXI5SQhEIT5"
   },
   "outputs": [],
   "source": [
    "# Obtain additional stopwords from nltk\n",
    "from nltk.corpus import stopwords\n",
    "stop_words = stopwords.words('english')\n",
    "stop_words.extend(['from', 'subject', 're', 'edu', 'use'])"
   ]
  },
  {
   "cell_type": "code",
   "execution_count": 11,
   "metadata": {
    "id": "71aTo4e9EM3h"
   },
   "outputs": [],
   "source": [
    "# Remove stopwords and remove words with 2 or less characters\n",
    "def preprocess(text):\n",
    "    result = []\n",
    "    for token in gensim.utils.simple_preprocess(text):\n",
    "        if token not in gensim.parsing.preprocessing.STOPWORDS and len(token) > 2 and token not in stop_words:\n",
    "            result.append(token)\n",
    "\n",
    "    return result"
   ]
  },
  {
   "cell_type": "code",
   "execution_count": 12,
   "metadata": {
    "id": "H2MaZQEIERIA"
   },
   "outputs": [],
   "source": [
    "# Apply the function to the dataframe\n",
    "df['clean'] = df['Statement'].apply(preprocess)"
   ]
  },
  {
   "cell_type": "code",
   "execution_count": 13,
   "metadata": {
    "id": "NWtNu52rEXdA"
   },
   "outputs": [],
   "source": [
    "# Obtain the total words present in the dataset\n",
    "list_of_words = []\n",
    "for i in df.clean:\n",
    "    for j in i:\n",
    "        list_of_words.append(j)"
   ]
  },
  {
   "cell_type": "code",
   "execution_count": 14,
   "metadata": {
    "colab": {
     "base_uri": "https://localhost:8080/"
    },
    "id": "37IYnXi3EZ4o",
    "outputId": "210899a7-eb27-411e-89ed-a5602e546204"
   },
   "outputs": [
    {
     "data": {
      "text/plain": [
       "506328"
      ]
     },
     "execution_count": 14,
     "metadata": {},
     "output_type": "execute_result"
    }
   ],
   "source": [
    "len(list_of_words)"
   ]
  },
  {
   "cell_type": "code",
   "execution_count": 15,
   "metadata": {
    "colab": {
     "base_uri": "https://localhost:8080/"
    },
    "id": "UWwF6mT9EcSg",
    "outputId": "1e37a50b-3bc6-4910-96bf-1f51f34f9cfa"
   },
   "outputs": [
    {
     "data": {
      "text/plain": [
       "31497"
      ]
     },
     "execution_count": 15,
     "metadata": {},
     "output_type": "execute_result"
    }
   ],
   "source": [
    "# Obtain the total number of unique words\n",
    "total_words = len(list(set(list_of_words)))\n",
    "total_words"
   ]
  },
  {
   "cell_type": "code",
   "execution_count": 16,
   "metadata": {
    "id": "WQ8rmIFPEet4"
   },
   "outputs": [],
   "source": [
    "# join the words into a string\n",
    "df['clean_joined'] = df['clean'].apply(lambda x: \" \".join(x))"
   ]
  },
  {
   "cell_type": "code",
   "execution_count": 17,
   "metadata": {
    "colab": {
     "base_uri": "https://localhost:8080/"
    },
    "id": "qkRNW5JFEh4R",
    "outputId": "d67ffd66-1bb1-4ebd-a816-5d90125f83f1"
   },
   "outputs": [
    {
     "name": "stdout",
     "output_type": "stream",
     "text": [
      "Max length of the titles: 37\n"
     ]
    }
   ],
   "source": [
    "titles = [text for text in df.clean_joined]\n",
    "\n",
    "max_len = -1\n",
    "titles_len = []\n",
    "for title in titles:\n",
    "    max_len = max(len(title.split()), max_len)\n",
    "\n",
    "print('Max length of the titles:', max_len)"
   ]
  },
  {
   "cell_type": "code",
   "execution_count": 18,
   "metadata": {
    "id": "epk2rClAEqtY"
   },
   "outputs": [],
   "source": [
    "from sklearn.utils import shuffle\n",
    "# Shuffle\n",
    "df = shuffle(df).reset_index(drop=True)"
   ]
  },
  {
   "cell_type": "code",
   "execution_count": 19,
   "metadata": {
    "colab": {
     "base_uri": "https://localhost:8080/"
    },
    "id": "r2LHrWLPEtXX",
    "outputId": "ecbe5c21-d82e-453c-fecb-3a4b9e57d21b"
   },
   "outputs": [
    {
     "name": "stdout",
     "output_type": "stream",
     "text": [
      "trainset size: (43386, 9)\n",
      "valset size: (4821, 9)\n",
      "testset size: (8507, 9)\n",
      "bard test size: (500, 9)\n"
     ]
    }
   ],
   "source": [
    "# split data into test and train\n",
    "\n",
    "train_val_df = df.sample(frac = 0.85, random_state = 42)\n",
    "test_df = df.drop(train_val_df.index)\n",
    "bard_df = test_df.sample(n=500, random_state=42)\n",
    "\n",
    "train_df = train_val_df.sample(frac = 0.9, random_state = 42)\n",
    "val_df = train_val_df.drop(train_df.index)\n",
    "\n",
    "# Reset Index\n",
    "train_df = train_df.reset_index(drop=True)\n",
    "val_df = val_df.reset_index(drop=True)\n",
    "test_df = test_df.reset_index(drop=True)\n",
    "\n",
    "print('trainset size:', train_df.shape)\n",
    "print('valset size:', val_df.shape)\n",
    "print('testset size:', test_df.shape)\n",
    "print('bard test size:', bard_df.shape)"
   ]
  },
  {
   "cell_type": "code",
   "execution_count": 20,
   "metadata": {
    "colab": {
     "base_uri": "https://localhost:8080/",
     "height": 1000
    },
    "id": "GsVPYA_84Drs",
    "outputId": "f7916027-f64e-4dff-cd56-1cda1154f1e9"
   },
   "outputs": [
    {
     "data": {
      "text/html": [
       "<div>\n",
       "<style scoped>\n",
       "    .dataframe tbody tr th:only-of-type {\n",
       "        vertical-align: middle;\n",
       "    }\n",
       "\n",
       "    .dataframe tbody tr th {\n",
       "        vertical-align: top;\n",
       "    }\n",
       "\n",
       "    .dataframe thead th {\n",
       "        text-align: right;\n",
       "    }\n",
       "</style>\n",
       "<table border=\"1\" class=\"dataframe\">\n",
       "  <thead>\n",
       "    <tr style=\"text-align: right;\">\n",
       "      <th></th>\n",
       "      <th>id</th>\n",
       "      <th>Statement</th>\n",
       "      <th>Image</th>\n",
       "      <th>Web</th>\n",
       "      <th>Category</th>\n",
       "      <th>Date</th>\n",
       "      <th>Label</th>\n",
       "      <th>clean</th>\n",
       "      <th>clean_joined</th>\n",
       "    </tr>\n",
       "  </thead>\n",
       "  <tbody>\n",
       "    <tr>\n",
       "      <th>0</th>\n",
       "      <td>4295</td>\n",
       "      <td>ÔLove jihadÕ coined by BJP to divide nation, d...</td>\n",
       "      <td>https://images.indianexpress.com/2020/09/ashok...</td>\n",
       "      <td>INDIANEXPRESS</td>\n",
       "      <td>POLITICS</td>\n",
       "      <td>Sep-20</td>\n",
       "      <td>TRUE</td>\n",
       "      <td>[ôlove, jihadõ, coined, bjp, divide, nation, d...</td>\n",
       "      <td>ôlove jihadõ coined bjp divide nation disturb ...</td>\n",
       "    </tr>\n",
       "    <tr>\n",
       "      <th>1</th>\n",
       "      <td>2440</td>\n",
       "      <td>Kerala gangrape case: NCW takes suo moto cogni...</td>\n",
       "      <td>https://www.thestatesman.com/wp-content/upload...</td>\n",
       "      <td>THESTATESMAN</td>\n",
       "      <td>VIOLENCE</td>\n",
       "      <td>Jun-20</td>\n",
       "      <td>TRUE</td>\n",
       "      <td>[kerala, gangrape, case, ncw, takes, suo, moto...</td>\n",
       "      <td>kerala gangrape case ncw takes suo moto cogniz...</td>\n",
       "    </tr>\n",
       "    <tr>\n",
       "      <th>2</th>\n",
       "      <td>2784</td>\n",
       "      <td>Indian Railways to run Shramik Special trains ...</td>\n",
       "      <td>https://www.thestatesman.com/wp-content/upload...</td>\n",
       "      <td>THESTATESMAN</td>\n",
       "      <td>GOVERNMENT</td>\n",
       "      <td>May-20</td>\n",
       "      <td>TRUE</td>\n",
       "      <td>[indian, railways, run, shramik, special, trai...</td>\n",
       "      <td>indian railways run shramik special trains dis...</td>\n",
       "    </tr>\n",
       "    <tr>\n",
       "      <th>3</th>\n",
       "      <td>48703</td>\n",
       "      <td>Economy And Companies In 2020: Top 10 Fake Claims</td>\n",
       "      <td>https://englishtribuneimages.blob.core.window...</td>\n",
       "      <td>AUGMENT</td>\n",
       "      <td>COVID-19</td>\n",
       "      <td>NaN</td>\n",
       "      <td>Fake</td>\n",
       "      <td>[economy, companies, fake, claims]</td>\n",
       "      <td>economy companies fake claims</td>\n",
       "    </tr>\n",
       "    <tr>\n",
       "      <th>4</th>\n",
       "      <td>2752</td>\n",
       "      <td>Amid Centre vs states over migrantsÛª movemen...</td>\n",
       "      <td>https://www.thestatesman.com/wp-content/upload...</td>\n",
       "      <td>THESTATESMAN</td>\n",
       "      <td>GOVERNMENT</td>\n",
       "      <td>May-20</td>\n",
       "      <td>TRUE</td>\n",
       "      <td>[amid, centre, states, migrants, movement, tra...</td>\n",
       "      <td>amid centre states migrants movement trains un...</td>\n",
       "    </tr>\n",
       "    <tr>\n",
       "      <th>...</th>\n",
       "      <td>...</td>\n",
       "      <td>...</td>\n",
       "      <td>...</td>\n",
       "      <td>...</td>\n",
       "      <td>...</td>\n",
       "      <td>...</td>\n",
       "      <td>...</td>\n",
       "      <td>...</td>\n",
       "      <td>...</td>\n",
       "    </tr>\n",
       "    <tr>\n",
       "      <th>8502</th>\n",
       "      <td>363</td>\n",
       "      <td>To Mosul and back, Kerala ISIS manÛªs extraor...</td>\n",
       "      <td>https://images.indianexpress.com/2020/09/keral...</td>\n",
       "      <td>INDIANEXPRESS</td>\n",
       "      <td>VIOLENCE</td>\n",
       "      <td>Sep-20</td>\n",
       "      <td>TRUE</td>\n",
       "      <td>[mosul, kerala, isis, man, ûªs, extraordinary,...</td>\n",
       "      <td>mosul kerala isis man ûªs extraordinary brush ...</td>\n",
       "    </tr>\n",
       "    <tr>\n",
       "      <th>8503</th>\n",
       "      <td>13556</td>\n",
       "      <td>Labour Ministry to launch a drive to enable un...</td>\n",
       "      <td>https://cmsimages.tribuneindia.com/gallary_con...</td>\n",
       "      <td>TRIBUNEINDIA</td>\n",
       "      <td>GOVERNMENT</td>\n",
       "      <td>Jun-20</td>\n",
       "      <td>TRUE</td>\n",
       "      <td>[labour, ministry, launch, drive, enable, unre...</td>\n",
       "      <td>labour ministry launch drive enable unregister...</td>\n",
       "    </tr>\n",
       "    <tr>\n",
       "      <th>8504</th>\n",
       "      <td>17797</td>\n",
       "      <td>Delhi Police book YouTuber accused of cheating...</td>\n",
       "      <td>https://cmsimages.tribuneindia.com/gallary_con...</td>\n",
       "      <td>TRIBUNEINDIA</td>\n",
       "      <td>TERROR</td>\n",
       "      <td>Nov-20</td>\n",
       "      <td>TRUE</td>\n",
       "      <td>[delhi, police, book, youtuber, accused, cheat...</td>\n",
       "      <td>delhi police book youtuber accused cheating ôb...</td>\n",
       "    </tr>\n",
       "    <tr>\n",
       "      <th>8505</th>\n",
       "      <td>49963</td>\n",
       "      <td>Fact Check: Photo Of PM Modi Alongside A Lady ...</td>\n",
       "      <td>https://cdn.cnn.com/cnnnext/dam/assets/200817...</td>\n",
       "      <td>AUGMENT</td>\n",
       "      <td>GOVERNMENT</td>\n",
       "      <td>NaN</td>\n",
       "      <td>Fake</td>\n",
       "      <td>[fact, check, photo, modi, alongside, lady, sh...</td>\n",
       "      <td>fact check photo modi alongside lady shared cl...</td>\n",
       "    </tr>\n",
       "    <tr>\n",
       "      <th>8506</th>\n",
       "      <td>35575</td>\n",
       "      <td>Modi govt has been on a mission to finish Hurr...</td>\n",
       "      <td>https://static.theprint.in/wp-content/uploads/...</td>\n",
       "      <td>THEPRINT</td>\n",
       "      <td>GOVERNMENT</td>\n",
       "      <td>Jun-20</td>\n",
       "      <td>TRUE</td>\n",
       "      <td>[modi, govt, mission, finish, hurriyat, geelan...</td>\n",
       "      <td>modi govt mission finish hurriyat geelaniï exi...</td>\n",
       "    </tr>\n",
       "  </tbody>\n",
       "</table>\n",
       "<p>8507 rows × 9 columns</p>\n",
       "</div>"
      ],
      "text/plain": [
       "         id                                          Statement  \\\n",
       "0      4295  ÔLove jihadÕ coined by BJP to divide nation, d...   \n",
       "1      2440  Kerala gangrape case: NCW takes suo moto cogni...   \n",
       "2      2784  Indian Railways to run Shramik Special trains ...   \n",
       "3     48703  Economy And Companies In 2020: Top 10 Fake Claims   \n",
       "4      2752  Amid Centre vs states over migrantsÛª movemen...   \n",
       "...     ...                                                ...   \n",
       "8502    363  To Mosul and back, Kerala ISIS manÛªs extraor...   \n",
       "8503  13556  Labour Ministry to launch a drive to enable un...   \n",
       "8504  17797  Delhi Police book YouTuber accused of cheating...   \n",
       "8505  49963  Fact Check: Photo Of PM Modi Alongside A Lady ...   \n",
       "8506  35575  Modi govt has been on a mission to finish Hurr...   \n",
       "\n",
       "                                                  Image            Web  \\\n",
       "0     https://images.indianexpress.com/2020/09/ashok...  INDIANEXPRESS   \n",
       "1     https://www.thestatesman.com/wp-content/upload...   THESTATESMAN   \n",
       "2     https://www.thestatesman.com/wp-content/upload...   THESTATESMAN   \n",
       "3      https://englishtribuneimages.blob.core.window...        AUGMENT   \n",
       "4     https://www.thestatesman.com/wp-content/upload...   THESTATESMAN   \n",
       "...                                                 ...            ...   \n",
       "8502  https://images.indianexpress.com/2020/09/keral...  INDIANEXPRESS   \n",
       "8503  https://cmsimages.tribuneindia.com/gallary_con...   TRIBUNEINDIA   \n",
       "8504  https://cmsimages.tribuneindia.com/gallary_con...   TRIBUNEINDIA   \n",
       "8505   https://cdn.cnn.com/cnnnext/dam/assets/200817...        AUGMENT   \n",
       "8506  https://static.theprint.in/wp-content/uploads/...       THEPRINT   \n",
       "\n",
       "        Category    Date Label  \\\n",
       "0       POLITICS  Sep-20  TRUE   \n",
       "1       VIOLENCE  Jun-20  TRUE   \n",
       "2     GOVERNMENT  May-20  TRUE   \n",
       "3       COVID-19     NaN  Fake   \n",
       "4     GOVERNMENT  May-20  TRUE   \n",
       "...          ...     ...   ...   \n",
       "8502    VIOLENCE  Sep-20  TRUE   \n",
       "8503  GOVERNMENT  Jun-20  TRUE   \n",
       "8504      TERROR  Nov-20  TRUE   \n",
       "8505  GOVERNMENT     NaN  Fake   \n",
       "8506  GOVERNMENT  Jun-20  TRUE   \n",
       "\n",
       "                                                  clean  \\\n",
       "0     [ôlove, jihadõ, coined, bjp, divide, nation, d...   \n",
       "1     [kerala, gangrape, case, ncw, takes, suo, moto...   \n",
       "2     [indian, railways, run, shramik, special, trai...   \n",
       "3                    [economy, companies, fake, claims]   \n",
       "4     [amid, centre, states, migrants, movement, tra...   \n",
       "...                                                 ...   \n",
       "8502  [mosul, kerala, isis, man, ûªs, extraordinary,...   \n",
       "8503  [labour, ministry, launch, drive, enable, unre...   \n",
       "8504  [delhi, police, book, youtuber, accused, cheat...   \n",
       "8505  [fact, check, photo, modi, alongside, lady, sh...   \n",
       "8506  [modi, govt, mission, finish, hurriyat, geelan...   \n",
       "\n",
       "                                           clean_joined  \n",
       "0     ôlove jihadõ coined bjp divide nation disturb ...  \n",
       "1     kerala gangrape case ncw takes suo moto cogniz...  \n",
       "2     indian railways run shramik special trains dis...  \n",
       "3                         economy companies fake claims  \n",
       "4     amid centre states migrants movement trains un...  \n",
       "...                                                 ...  \n",
       "8502  mosul kerala isis man ûªs extraordinary brush ...  \n",
       "8503  labour ministry launch drive enable unregister...  \n",
       "8504  delhi police book youtuber accused cheating ôb...  \n",
       "8505  fact check photo modi alongside lady shared cl...  \n",
       "8506  modi govt mission finish hurriyat geelaniï exi...  \n",
       "\n",
       "[8507 rows x 9 columns]"
      ]
     },
     "execution_count": 20,
     "metadata": {},
     "output_type": "execute_result"
    }
   ],
   "source": [
    "test_df"
   ]
  },
  {
   "cell_type": "code",
   "execution_count": 21,
   "metadata": {
    "id": "svTLrCwW5Zs_"
   },
   "outputs": [],
   "source": [
    "test_df.to_csv('test.csv')"
   ]
  },
  {
   "cell_type": "code",
   "execution_count": 22,
   "metadata": {
    "colab": {
     "base_uri": "https://localhost:8080/",
     "height": 1000
    },
    "id": "dEsRB_MQcoXu",
    "outputId": "56598289-2314-4df1-a984-d27b622f2919"
   },
   "outputs": [
    {
     "data": {
      "text/html": [
       "<div>\n",
       "<style scoped>\n",
       "    .dataframe tbody tr th:only-of-type {\n",
       "        vertical-align: middle;\n",
       "    }\n",
       "\n",
       "    .dataframe tbody tr th {\n",
       "        vertical-align: top;\n",
       "    }\n",
       "\n",
       "    .dataframe thead th {\n",
       "        text-align: right;\n",
       "    }\n",
       "</style>\n",
       "<table border=\"1\" class=\"dataframe\">\n",
       "  <thead>\n",
       "    <tr style=\"text-align: right;\">\n",
       "      <th></th>\n",
       "      <th>id</th>\n",
       "      <th>Statement</th>\n",
       "      <th>Image</th>\n",
       "      <th>Web</th>\n",
       "      <th>Category</th>\n",
       "      <th>Date</th>\n",
       "      <th>Label</th>\n",
       "      <th>clean</th>\n",
       "      <th>clean_joined</th>\n",
       "    </tr>\n",
       "  </thead>\n",
       "  <tbody>\n",
       "    <tr>\n",
       "      <th>28831</th>\n",
       "      <td>27766</td>\n",
       "      <td>Sisodia steps in after 3 Pak Hindu refugee chi...</td>\n",
       "      <td>https://static.theprint.in/wp-content/uploads/...</td>\n",
       "      <td>THEPRINT</td>\n",
       "      <td>GOVERNMENT</td>\n",
       "      <td>Sep-19</td>\n",
       "      <td>TRUE</td>\n",
       "      <td>[sisodia, steps, pak, hindu, refugee, children...</td>\n",
       "      <td>sisodia steps pak hindu refugee children denie...</td>\n",
       "    </tr>\n",
       "    <tr>\n",
       "      <th>56146</th>\n",
       "      <td>53707</td>\n",
       "      <td>FAKE: Video of IT raid on T&amp;T law firm made vi...</td>\n",
       "      <td>https://englishtribuneimages.blob.core.windows...</td>\n",
       "      <td>AUGMENT</td>\n",
       "      <td>VIOLENCE</td>\n",
       "      <td>NaN</td>\n",
       "      <td>Fake</td>\n",
       "      <td>[fake, video, raid, law, firm, viral, money, c...</td>\n",
       "      <td>fake video raid law firm viral money congress ...</td>\n",
       "    </tr>\n",
       "    <tr>\n",
       "      <th>14139</th>\n",
       "      <td>38589</td>\n",
       "      <td>Fact Check: Did a US city deploy child soldier...</td>\n",
       "      <td>https://akm-img-a-in.tosshub.com/indiatoday/im...</td>\n",
       "      <td>INDIATODAY</td>\n",
       "      <td>MISLEADING</td>\n",
       "      <td>20-Jun</td>\n",
       "      <td>Fake</td>\n",
       "      <td>[fact, check, city, deploy, child, soldiers, q...</td>\n",
       "      <td>fact check city deploy child soldiers quell pr...</td>\n",
       "    </tr>\n",
       "    <tr>\n",
       "      <th>23393</th>\n",
       "      <td>51309</td>\n",
       "      <td>No, Indian PM Modi did not receive a jumper fr...</td>\n",
       "      <td>https://static.theprint.in/wp-content/uploads/...</td>\n",
       "      <td>AUGMENT</td>\n",
       "      <td>COVID-19</td>\n",
       "      <td>NaN</td>\n",
       "      <td>Fake</td>\n",
       "      <td>[indian, modi, receive, jumper, fifa, presiden...</td>\n",
       "      <td>indian modi receive jumper fifa president impl...</td>\n",
       "    </tr>\n",
       "    <tr>\n",
       "      <th>17883</th>\n",
       "      <td>2903</td>\n",
       "      <td>Tamil Nadu: 2 lawyers use forged documents to ...</td>\n",
       "      <td>https://imgk.timesnownews.com/story/iStock-105...</td>\n",
       "      <td>TIMESNOW</td>\n",
       "      <td>TERROR</td>\n",
       "      <td>Oct-20</td>\n",
       "      <td>TRUE</td>\n",
       "      <td>[tamil, nadu, lawyers, forged, documents, secu...</td>\n",
       "      <td>tamil nadu lawyers forged documents secure bai...</td>\n",
       "    </tr>\n",
       "    <tr>\n",
       "      <th>...</th>\n",
       "      <td>...</td>\n",
       "      <td>...</td>\n",
       "      <td>...</td>\n",
       "      <td>...</td>\n",
       "      <td>...</td>\n",
       "      <td>...</td>\n",
       "      <td>...</td>\n",
       "      <td>...</td>\n",
       "      <td>...</td>\n",
       "    </tr>\n",
       "    <tr>\n",
       "      <th>56335</th>\n",
       "      <td>29889</td>\n",
       "      <td>Former Prime Minister and BJP stalwart Atal Bi...</td>\n",
       "      <td>https://static.theprint.in/wp-content/uploads/...</td>\n",
       "      <td>THEPRINT</td>\n",
       "      <td>ELECTION</td>\n",
       "      <td>Aug-18</td>\n",
       "      <td>TRUE</td>\n",
       "      <td>[prime, minister, bjp, stalwart, atal, bihari,...</td>\n",
       "      <td>prime minister bjp stalwart atal bihari vajpay...</td>\n",
       "    </tr>\n",
       "    <tr>\n",
       "      <th>23863</th>\n",
       "      <td>15187</td>\n",
       "      <td>Cable operators forced to block news channel c...</td>\n",
       "      <td>https://cmsimages.tribuneindia.com/gallary_con...</td>\n",
       "      <td>TRIBUNEINDIA</td>\n",
       "      <td>POLITICS</td>\n",
       "      <td>May-20</td>\n",
       "      <td>TRUE</td>\n",
       "      <td>[cable, operators, forced, block, news, channe...</td>\n",
       "      <td>cable operators forced block news channel crit...</td>\n",
       "    </tr>\n",
       "    <tr>\n",
       "      <th>46037</th>\n",
       "      <td>44765</td>\n",
       "      <td>This road is built for Chardham Yatra? Dont f...</td>\n",
       "      <td>https://newsmobile.in/wp-content/uploads/2019/...</td>\n",
       "      <td>NEWSMOBILE</td>\n",
       "      <td>VIOLENCE</td>\n",
       "      <td>19-Apr</td>\n",
       "      <td>Fake</td>\n",
       "      <td>[road, built, chardham, yatra, fall]</td>\n",
       "      <td>road built chardham yatra fall</td>\n",
       "    </tr>\n",
       "    <tr>\n",
       "      <th>39692</th>\n",
       "      <td>14445</td>\n",
       "      <td>Was advised not to speak to Rahul, claims Raji...</td>\n",
       "      <td>https://cmsimages.tribuneindia.com/gallary_con...</td>\n",
       "      <td>TRIBUNEINDIA</td>\n",
       "      <td>ELECTION</td>\n",
       "      <td>Jun-20</td>\n",
       "      <td>TRUE</td>\n",
       "      <td>[advised, speak, rahul, claims, rajiv, bajaj]</td>\n",
       "      <td>advised speak rahul claims rajiv bajaj</td>\n",
       "    </tr>\n",
       "    <tr>\n",
       "      <th>37609</th>\n",
       "      <td>26063</td>\n",
       "      <td>Only 5 people knew about Balakot airstrike, mu...</td>\n",
       "      <td>https://static.theprint.in/wp-content/uploads/...</td>\n",
       "      <td>THEPRINT</td>\n",
       "      <td>ELECTION</td>\n",
       "      <td>Jan-21</td>\n",
       "      <td>TRUE</td>\n",
       "      <td>[people, knew, balakot, airstrike, book, leake...</td>\n",
       "      <td>people knew balakot airstrike book leaked info...</td>\n",
       "    </tr>\n",
       "  </tbody>\n",
       "</table>\n",
       "<p>500 rows × 9 columns</p>\n",
       "</div>"
      ],
      "text/plain": [
       "          id                                          Statement  \\\n",
       "28831  27766  Sisodia steps in after 3 Pak Hindu refugee chi...   \n",
       "56146  53707  FAKE: Video of IT raid on T&T law firm made vi...   \n",
       "14139  38589  Fact Check: Did a US city deploy child soldier...   \n",
       "23393  51309  No, Indian PM Modi did not receive a jumper fr...   \n",
       "17883   2903  Tamil Nadu: 2 lawyers use forged documents to ...   \n",
       "...      ...                                                ...   \n",
       "56335  29889  Former Prime Minister and BJP stalwart Atal Bi...   \n",
       "23863  15187  Cable operators forced to block news channel c...   \n",
       "46037  44765  This road is built for Chardham Yatra? Dont f...   \n",
       "39692  14445  Was advised not to speak to Rahul, claims Raji...   \n",
       "37609  26063  Only 5 people knew about Balakot airstrike, mu...   \n",
       "\n",
       "                                                   Image           Web  \\\n",
       "28831  https://static.theprint.in/wp-content/uploads/...      THEPRINT   \n",
       "56146  https://englishtribuneimages.blob.core.windows...       AUGMENT   \n",
       "14139  https://akm-img-a-in.tosshub.com/indiatoday/im...    INDIATODAY   \n",
       "23393  https://static.theprint.in/wp-content/uploads/...       AUGMENT   \n",
       "17883  https://imgk.timesnownews.com/story/iStock-105...      TIMESNOW   \n",
       "...                                                  ...           ...   \n",
       "56335  https://static.theprint.in/wp-content/uploads/...      THEPRINT   \n",
       "23863  https://cmsimages.tribuneindia.com/gallary_con...  TRIBUNEINDIA   \n",
       "46037  https://newsmobile.in/wp-content/uploads/2019/...    NEWSMOBILE   \n",
       "39692  https://cmsimages.tribuneindia.com/gallary_con...  TRIBUNEINDIA   \n",
       "37609  https://static.theprint.in/wp-content/uploads/...      THEPRINT   \n",
       "\n",
       "         Category    Date Label  \\\n",
       "28831  GOVERNMENT  Sep-19  TRUE   \n",
       "56146    VIOLENCE     NaN  Fake   \n",
       "14139  MISLEADING  20-Jun  Fake   \n",
       "23393    COVID-19     NaN  Fake   \n",
       "17883      TERROR  Oct-20  TRUE   \n",
       "...           ...     ...   ...   \n",
       "56335    ELECTION  Aug-18  TRUE   \n",
       "23863    POLITICS  May-20  TRUE   \n",
       "46037    VIOLENCE  19-Apr  Fake   \n",
       "39692    ELECTION  Jun-20  TRUE   \n",
       "37609    ELECTION  Jan-21  TRUE   \n",
       "\n",
       "                                                   clean  \\\n",
       "28831  [sisodia, steps, pak, hindu, refugee, children...   \n",
       "56146  [fake, video, raid, law, firm, viral, money, c...   \n",
       "14139  [fact, check, city, deploy, child, soldiers, q...   \n",
       "23393  [indian, modi, receive, jumper, fifa, presiden...   \n",
       "17883  [tamil, nadu, lawyers, forged, documents, secu...   \n",
       "...                                                  ...   \n",
       "56335  [prime, minister, bjp, stalwart, atal, bihari,...   \n",
       "23863  [cable, operators, forced, block, news, channe...   \n",
       "46037               [road, built, chardham, yatra, fall]   \n",
       "39692      [advised, speak, rahul, claims, rajiv, bajaj]   \n",
       "37609  [people, knew, balakot, airstrike, book, leake...   \n",
       "\n",
       "                                            clean_joined  \n",
       "28831  sisodia steps pak hindu refugee children denie...  \n",
       "56146  fake video raid law firm viral money congress ...  \n",
       "14139  fact check city deploy child soldiers quell pr...  \n",
       "23393  indian modi receive jumper fifa president impl...  \n",
       "17883  tamil nadu lawyers forged documents secure bai...  \n",
       "...                                                  ...  \n",
       "56335  prime minister bjp stalwart atal bihari vajpay...  \n",
       "23863  cable operators forced block news channel crit...  \n",
       "46037                     road built chardham yatra fall  \n",
       "39692             advised speak rahul claims rajiv bajaj  \n",
       "37609  people knew balakot airstrike book leaked info...  \n",
       "\n",
       "[500 rows x 9 columns]"
      ]
     },
     "execution_count": 22,
     "metadata": {},
     "output_type": "execute_result"
    }
   ],
   "source": [
    "bard_df"
   ]
  },
  {
   "cell_type": "code",
   "execution_count": 23,
   "metadata": {
    "id": "R3JUMhlgcthu"
   },
   "outputs": [],
   "source": [
    "bard_df.to_csv('bard.csv')"
   ]
  },
  {
   "cell_type": "code",
   "execution_count": 24,
   "metadata": {
    "id": "5EJghfZCExUo"
   },
   "outputs": [],
   "source": [
    "from nltk import word_tokenize"
   ]
  },
  {
   "cell_type": "code",
   "execution_count": 25,
   "metadata": {
    "id": "ivuHNxq-E49g"
   },
   "outputs": [],
   "source": [
    "# Create a tokenizer to tokenize the words and create sequences of tokenized words\n",
    "tokenizer = Tokenizer(num_words = total_words)\n",
    "tokenizer.fit_on_texts(train_df['clean_joined'])\n",
    "train_sequences = tokenizer.texts_to_sequences(train_df['clean_joined'])\n",
    "test_sequences = tokenizer.texts_to_sequences(test_df['clean_joined'])\n",
    "val_sequences = tokenizer.texts_to_sequences(val_df['clean_joined'])"
   ]
  },
  {
   "cell_type": "code",
   "execution_count": 26,
   "metadata": {
    "id": "FG6BvDE1E77y"
   },
   "outputs": [],
   "source": [
    "# Add padding can either be maxlen = 4406 or smaller number maxlen = 40 seems to work well based on results\n",
    "padded_train = pad_sequences(train_sequences,maxlen = 37, padding = 'post', truncating = 'post')\n",
    "padded_test = pad_sequences(test_sequences,maxlen = 37, padding = 'post', truncating = 'post')\n",
    "padded_val = pad_sequences(val_sequences,maxlen = 37, padding = 'post', truncating = 'post')"
   ]
  },
  {
   "cell_type": "code",
   "execution_count": 27,
   "metadata": {
    "colab": {
     "base_uri": "https://localhost:8080/"
    },
    "id": "D-HjOZne-jJ4",
    "outputId": "6082fc85-5e08-436a-9ac3-50f0246ad350"
   },
   "outputs": [
    {
     "data": {
      "text/plain": [
       "(array([[    1,     2,    13, ...,     0,     0,     0],\n",
       "        [   13,     4, 10022, ...,     0,     0,     0],\n",
       "        [   55, 16264,    45, ...,     0,     0,     0],\n",
       "        ...,\n",
       "        [   13,    48,    24, ...,     0,     0,     0],\n",
       "        [ 1300,    68,  1118, ...,     0,     0,     0],\n",
       "        [ 8560,   978,   139, ...,     0,     0,     0]], dtype=int32),\n",
       " array([[3184, 2827,    6, ...,    0,    0,    0],\n",
       "        [  61, 2892,   22, ...,    0,    0,    0],\n",
       "        [  17,  342,  416, ...,    0,    0,    0],\n",
       "        ...,\n",
       "        [  11,   19,  953, ...,    0,    0,    0],\n",
       "        [   1,    2,   37, ...,    0,    0,    0],\n",
       "        [   7,   10,  590, ...,    0,    0,    0]], dtype=int32),\n",
       " array([[ 265, 3272,  176, ...,    0,    0,    0],\n",
       "        [ 175,    7, 4661, ...,    0,    0,    0],\n",
       "        [   1,    2,  265, ...,    0,    0,    0],\n",
       "        ...,\n",
       "        [  38,  847, 2591, ...,    0,    0,    0],\n",
       "        [  31,   10, 6178, ...,    0,    0,    0],\n",
       "        [ 489,   51, 2726, ...,    0,    0,    0]], dtype=int32))"
      ]
     },
     "execution_count": 27,
     "metadata": {},
     "output_type": "execute_result"
    }
   ],
   "source": [
    "padded_train, padded_test, padded_val"
   ]
  },
  {
   "cell_type": "code",
   "execution_count": 28,
   "metadata": {
    "colab": {
     "base_uri": "https://localhost:8080/",
     "height": 1000
    },
    "id": "L5EUo0H3AXX1",
    "outputId": "3cadc923-fe3c-4748-cbf2-ad11e497aa97"
   },
   "outputs": [
    {
     "data": {
      "text/html": [
       "<div>\n",
       "<style scoped>\n",
       "    .dataframe tbody tr th:only-of-type {\n",
       "        vertical-align: middle;\n",
       "    }\n",
       "\n",
       "    .dataframe tbody tr th {\n",
       "        vertical-align: top;\n",
       "    }\n",
       "\n",
       "    .dataframe thead th {\n",
       "        text-align: right;\n",
       "    }\n",
       "</style>\n",
       "<table border=\"1\" class=\"dataframe\">\n",
       "  <thead>\n",
       "    <tr style=\"text-align: right;\">\n",
       "      <th></th>\n",
       "      <th>id</th>\n",
       "      <th>Statement</th>\n",
       "      <th>Image</th>\n",
       "      <th>Web</th>\n",
       "      <th>Category</th>\n",
       "      <th>Date</th>\n",
       "      <th>Label</th>\n",
       "      <th>clean</th>\n",
       "      <th>clean_joined</th>\n",
       "      <th>Fake</th>\n",
       "      <th>TRUE</th>\n",
       "    </tr>\n",
       "  </thead>\n",
       "  <tbody>\n",
       "    <tr>\n",
       "      <th>0</th>\n",
       "      <td>55955</td>\n",
       "      <td>Fact Check: Old video of overcrowded train in ...</td>\n",
       "      <td>https://www.thestatesman.com/wp-content/upload...</td>\n",
       "      <td>AUGMENT</td>\n",
       "      <td>VIOLENCE</td>\n",
       "      <td>NaN</td>\n",
       "      <td>Fake</td>\n",
       "      <td>[fact, check, old, video, overcrowded, train, ...</td>\n",
       "      <td>fact check old video overcrowded train banglad...</td>\n",
       "      <td>True</td>\n",
       "      <td>False</td>\n",
       "    </tr>\n",
       "    <tr>\n",
       "      <th>1</th>\n",
       "      <td>40196</td>\n",
       "      <td>An old video of womenâs protest in Kashmir i...</td>\n",
       "      <td>https://i1.wp.com/english.factcrescendo.com/wp...</td>\n",
       "      <td>FACTCRESCENDO</td>\n",
       "      <td>VIOLENCE</td>\n",
       "      <td>19-Aug</td>\n",
       "      <td>Fake</td>\n",
       "      <td>[old, video, womenâ, protest, kashmir, showcas...</td>\n",
       "      <td>old video womenâ protest kashmir showcased cir...</td>\n",
       "      <td>True</td>\n",
       "      <td>False</td>\n",
       "    </tr>\n",
       "    <tr>\n",
       "      <th>2</th>\n",
       "      <td>14058</td>\n",
       "      <td>Pakistan's PTV News fires 2 journalists for sh...</td>\n",
       "      <td>https://cmsimages.tribuneindia.com/gallary_con...</td>\n",
       "      <td>TRIBUNEINDIA</td>\n",
       "      <td>COVID-19</td>\n",
       "      <td>Jun-20</td>\n",
       "      <td>TRUE</td>\n",
       "      <td>[pakistan, ptv, news, fires, journalists, show...</td>\n",
       "      <td>pakistan ptv news fires journalists showing ka...</td>\n",
       "      <td>False</td>\n",
       "      <td>True</td>\n",
       "    </tr>\n",
       "    <tr>\n",
       "      <th>3</th>\n",
       "      <td>41117</td>\n",
       "      <td>Kathua Rape: J&amp;K Police Rubbishes Reports Publ...</td>\n",
       "      <td>https://thelogicalindian.com/h-upload/2020/01/...</td>\n",
       "      <td>THELOGICALINDIA</td>\n",
       "      <td>VIOLENCE</td>\n",
       "      <td>20-Jan</td>\n",
       "      <td>Fake</td>\n",
       "      <td>[kathua, rape, police, rubbishes, reports, pub...</td>\n",
       "      <td>kathua rape police rubbishes reports published...</td>\n",
       "      <td>True</td>\n",
       "      <td>False</td>\n",
       "    </tr>\n",
       "    <tr>\n",
       "      <th>4</th>\n",
       "      <td>9365</td>\n",
       "      <td>JEE-Main result out, 24 score 100 percentile</td>\n",
       "      <td>https://cmsimages.tribuneindia.com/gallary_con...</td>\n",
       "      <td>TRIBUNEINDIA</td>\n",
       "      <td>TERROR</td>\n",
       "      <td>Sep-20</td>\n",
       "      <td>TRUE</td>\n",
       "      <td>[jee, main, result, score, percentile]</td>\n",
       "      <td>jee main result score percentile</td>\n",
       "      <td>False</td>\n",
       "      <td>True</td>\n",
       "    </tr>\n",
       "    <tr>\n",
       "      <th>...</th>\n",
       "      <td>...</td>\n",
       "      <td>...</td>\n",
       "      <td>...</td>\n",
       "      <td>...</td>\n",
       "      <td>...</td>\n",
       "      <td>...</td>\n",
       "      <td>...</td>\n",
       "      <td>...</td>\n",
       "      <td>...</td>\n",
       "      <td>...</td>\n",
       "      <td>...</td>\n",
       "    </tr>\n",
       "    <tr>\n",
       "      <th>43381</th>\n",
       "      <td>1734</td>\n",
       "      <td>Day after Rajasthan CM claims of Û÷higher hor...</td>\n",
       "      <td>https://www.thestatesman.com/wp-content/upload...</td>\n",
       "      <td>THESTATESMAN</td>\n",
       "      <td>ELECTION</td>\n",
       "      <td>Jul-20</td>\n",
       "      <td>TRUE</td>\n",
       "      <td>[day, rajasthan, claims, higher, horse, tradin...</td>\n",
       "      <td>day rajasthan claims higher horse trading rate...</td>\n",
       "      <td>False</td>\n",
       "      <td>True</td>\n",
       "    </tr>\n",
       "    <tr>\n",
       "      <th>43382</th>\n",
       "      <td>28019</td>\n",
       "      <td>Rahul Gandhi wants accountability, new Congres...</td>\n",
       "      <td>https://static.theprint.in/wp-content/uploads/...</td>\n",
       "      <td>THEPRINT</td>\n",
       "      <td>ELECTION</td>\n",
       "      <td>Jul-19</td>\n",
       "      <td>TRUE</td>\n",
       "      <td>[rahul, gandhi, wants, accountability, new, co...</td>\n",
       "      <td>rahul gandhi wants accountability new congress...</td>\n",
       "      <td>False</td>\n",
       "      <td>True</td>\n",
       "    </tr>\n",
       "    <tr>\n",
       "      <th>43383</th>\n",
       "      <td>45358</td>\n",
       "      <td>Old image from Bihar shared as pothole-filled ...</td>\n",
       "      <td>https://static.theprint.in/wp-content/uploads...</td>\n",
       "      <td>AUGMENT</td>\n",
       "      <td>GOVERNMENT</td>\n",
       "      <td>NaN</td>\n",
       "      <td>Fake</td>\n",
       "      <td>[old, image, bihar, shared, pothole, filled, r...</td>\n",
       "      <td>old image bihar shared pothole filled road rah...</td>\n",
       "      <td>True</td>\n",
       "      <td>False</td>\n",
       "    </tr>\n",
       "    <tr>\n",
       "      <th>43384</th>\n",
       "      <td>31393</td>\n",
       "      <td>Controversial Punjab DIG resigns in support of...</td>\n",
       "      <td>https://static.theprint.in/wp-content/uploads/...</td>\n",
       "      <td>THEPRINT</td>\n",
       "      <td>ELECTION</td>\n",
       "      <td>Dec-20</td>\n",
       "      <td>TRUE</td>\n",
       "      <td>[controversial, punjab, dig, resigns, support,...</td>\n",
       "      <td>controversial punjab dig resigns support farme...</td>\n",
       "      <td>False</td>\n",
       "      <td>True</td>\n",
       "    </tr>\n",
       "    <tr>\n",
       "      <th>43385</th>\n",
       "      <td>4982</td>\n",
       "      <td>Jamnagar lawyer held, was Ôlegal brainÕ behind...</td>\n",
       "      <td>https://images.indianexpress.com/2020/11/arres...</td>\n",
       "      <td>INDIANEXPRESS</td>\n",
       "      <td>VIOLENCE</td>\n",
       "      <td>Nov-20</td>\n",
       "      <td>TRUE</td>\n",
       "      <td>[jamnagar, lawyer, held, ôlegal, brainõ, land,...</td>\n",
       "      <td>jamnagar lawyer held ôlegal brainõ land grabbi...</td>\n",
       "      <td>False</td>\n",
       "      <td>True</td>\n",
       "    </tr>\n",
       "  </tbody>\n",
       "</table>\n",
       "<p>43386 rows × 11 columns</p>\n",
       "</div>"
      ],
      "text/plain": [
       "          id                                          Statement  \\\n",
       "0      55955  Fact Check: Old video of overcrowded train in ...   \n",
       "1      40196  An old video of womenâs protest in Kashmir i...   \n",
       "2      14058  Pakistan's PTV News fires 2 journalists for sh...   \n",
       "3      41117  Kathua Rape: J&K Police Rubbishes Reports Publ...   \n",
       "4       9365       JEE-Main result out, 24 score 100 percentile   \n",
       "...      ...                                                ...   \n",
       "43381   1734  Day after Rajasthan CM claims of Û÷higher hor...   \n",
       "43382  28019  Rahul Gandhi wants accountability, new Congres...   \n",
       "43383  45358  Old image from Bihar shared as pothole-filled ...   \n",
       "43384  31393  Controversial Punjab DIG resigns in support of...   \n",
       "43385   4982  Jamnagar lawyer held, was Ôlegal brainÕ behind...   \n",
       "\n",
       "                                                   Image              Web  \\\n",
       "0      https://www.thestatesman.com/wp-content/upload...          AUGMENT   \n",
       "1      https://i1.wp.com/english.factcrescendo.com/wp...    FACTCRESCENDO   \n",
       "2      https://cmsimages.tribuneindia.com/gallary_con...     TRIBUNEINDIA   \n",
       "3      https://thelogicalindian.com/h-upload/2020/01/...  THELOGICALINDIA   \n",
       "4      https://cmsimages.tribuneindia.com/gallary_con...     TRIBUNEINDIA   \n",
       "...                                                  ...              ...   \n",
       "43381  https://www.thestatesman.com/wp-content/upload...     THESTATESMAN   \n",
       "43382  https://static.theprint.in/wp-content/uploads/...         THEPRINT   \n",
       "43383   https://static.theprint.in/wp-content/uploads...          AUGMENT   \n",
       "43384  https://static.theprint.in/wp-content/uploads/...         THEPRINT   \n",
       "43385  https://images.indianexpress.com/2020/11/arres...    INDIANEXPRESS   \n",
       "\n",
       "         Category    Date Label  \\\n",
       "0        VIOLENCE     NaN  Fake   \n",
       "1        VIOLENCE  19-Aug  Fake   \n",
       "2        COVID-19  Jun-20  TRUE   \n",
       "3        VIOLENCE  20-Jan  Fake   \n",
       "4          TERROR  Sep-20  TRUE   \n",
       "...           ...     ...   ...   \n",
       "43381    ELECTION  Jul-20  TRUE   \n",
       "43382    ELECTION  Jul-19  TRUE   \n",
       "43383  GOVERNMENT     NaN  Fake   \n",
       "43384    ELECTION  Dec-20  TRUE   \n",
       "43385    VIOLENCE  Nov-20  TRUE   \n",
       "\n",
       "                                                   clean  \\\n",
       "0      [fact, check, old, video, overcrowded, train, ...   \n",
       "1      [old, video, womenâ, protest, kashmir, showcas...   \n",
       "2      [pakistan, ptv, news, fires, journalists, show...   \n",
       "3      [kathua, rape, police, rubbishes, reports, pub...   \n",
       "4                 [jee, main, result, score, percentile]   \n",
       "...                                                  ...   \n",
       "43381  [day, rajasthan, claims, higher, horse, tradin...   \n",
       "43382  [rahul, gandhi, wants, accountability, new, co...   \n",
       "43383  [old, image, bihar, shared, pothole, filled, r...   \n",
       "43384  [controversial, punjab, dig, resigns, support,...   \n",
       "43385  [jamnagar, lawyer, held, ôlegal, brainõ, land,...   \n",
       "\n",
       "                                            clean_joined   Fake   TRUE  \n",
       "0      fact check old video overcrowded train banglad...   True  False  \n",
       "1      old video womenâ protest kashmir showcased cir...   True  False  \n",
       "2      pakistan ptv news fires journalists showing ka...  False   True  \n",
       "3      kathua rape police rubbishes reports published...   True  False  \n",
       "4                       jee main result score percentile  False   True  \n",
       "...                                                  ...    ...    ...  \n",
       "43381  day rajasthan claims higher horse trading rate...  False   True  \n",
       "43382  rahul gandhi wants accountability new congress...  False   True  \n",
       "43383  old image bihar shared pothole filled road rah...   True  False  \n",
       "43384  controversial punjab dig resigns support farme...  False   True  \n",
       "43385  jamnagar lawyer held ôlegal brainõ land grabbi...  False   True  \n",
       "\n",
       "[43386 rows x 11 columns]"
      ]
     },
     "execution_count": 28,
     "metadata": {},
     "output_type": "execute_result"
    }
   ],
   "source": [
    "dummy_df = pd.get_dummies(train_df['Label'])\n",
    "train_df = pd.concat([train_df, dummy_df], axis=1)\n",
    "train_df"
   ]
  },
  {
   "cell_type": "code",
   "execution_count": 29,
   "metadata": {
    "colab": {
     "base_uri": "https://localhost:8080/",
     "height": 1000
    },
    "id": "1r57p6_6AsK1",
    "outputId": "33af8336-db2c-4ccf-8762-fa92b839f972"
   },
   "outputs": [
    {
     "data": {
      "text/html": [
       "<div>\n",
       "<style scoped>\n",
       "    .dataframe tbody tr th:only-of-type {\n",
       "        vertical-align: middle;\n",
       "    }\n",
       "\n",
       "    .dataframe tbody tr th {\n",
       "        vertical-align: top;\n",
       "    }\n",
       "\n",
       "    .dataframe thead th {\n",
       "        text-align: right;\n",
       "    }\n",
       "</style>\n",
       "<table border=\"1\" class=\"dataframe\">\n",
       "  <thead>\n",
       "    <tr style=\"text-align: right;\">\n",
       "      <th></th>\n",
       "      <th>id</th>\n",
       "      <th>Statement</th>\n",
       "      <th>Image</th>\n",
       "      <th>Web</th>\n",
       "      <th>Category</th>\n",
       "      <th>Date</th>\n",
       "      <th>Label</th>\n",
       "      <th>clean</th>\n",
       "      <th>clean_joined</th>\n",
       "      <th>Fake</th>\n",
       "      <th>TRUE</th>\n",
       "    </tr>\n",
       "  </thead>\n",
       "  <tbody>\n",
       "    <tr>\n",
       "      <th>0</th>\n",
       "      <td>44712</td>\n",
       "      <td>Pakistani players were not checked during the ...</td>\n",
       "      <td>https://newsmobile.in/wp-content/uploads/2019/...</td>\n",
       "      <td>NEWSMOBILE</td>\n",
       "      <td>ELECTION</td>\n",
       "      <td>19-Jun</td>\n",
       "      <td>Fake</td>\n",
       "      <td>[pakistani, players, checked, match, india]</td>\n",
       "      <td>pakistani players checked match india</td>\n",
       "      <td>True</td>\n",
       "      <td>False</td>\n",
       "    </tr>\n",
       "    <tr>\n",
       "      <th>1</th>\n",
       "      <td>22071</td>\n",
       "      <td>PM Narendra Modi interacts with recipients of ...</td>\n",
       "      <td>https://www.thestatesman.com/wp-content/upload...</td>\n",
       "      <td>THESTATESMAN</td>\n",
       "      <td>POLITICS</td>\n",
       "      <td>Jan-20</td>\n",
       "      <td>TRUE</td>\n",
       "      <td>[narendra, modi, interacts, recipients, rashtr...</td>\n",
       "      <td>narendra modi interacts recipients rashtriya b...</td>\n",
       "      <td>False</td>\n",
       "      <td>True</td>\n",
       "    </tr>\n",
       "    <tr>\n",
       "      <th>2</th>\n",
       "      <td>40737</td>\n",
       "      <td>Fact Check: Pakistani website hacked by Indian...</td>\n",
       "      <td>https://newsmeter.in/wp-content/uploads/2020/0...</td>\n",
       "      <td>NEWSMETER</td>\n",
       "      <td>POLITICS</td>\n",
       "      <td>20-Sep</td>\n",
       "      <td>Fake</td>\n",
       "      <td>[fact, check, pakistani, website, hacked, indi...</td>\n",
       "      <td>fact check pakistani website hacked indian cyb...</td>\n",
       "      <td>True</td>\n",
       "      <td>False</td>\n",
       "    </tr>\n",
       "    <tr>\n",
       "      <th>3</th>\n",
       "      <td>4745</td>\n",
       "      <td>PM Modi visits LK Advani on his 93rd birthday,...</td>\n",
       "      <td>https://images.indianexpress.com/2020/11/bday....</td>\n",
       "      <td>INDIANEXPRESS</td>\n",
       "      <td>POLITICS</td>\n",
       "      <td>Nov-20</td>\n",
       "      <td>TRUE</td>\n",
       "      <td>[modi, visits, advani, birthday, calls, ôinspi...</td>\n",
       "      <td>modi visits advani birthday calls ôinspirationõ</td>\n",
       "      <td>False</td>\n",
       "      <td>True</td>\n",
       "    </tr>\n",
       "    <tr>\n",
       "      <th>4</th>\n",
       "      <td>48886</td>\n",
       "      <td>Photo Of Kerala Cop Circulated As CPM Member A...</td>\n",
       "      <td>https://newsmobile.in/wp-content/uploads/2020...</td>\n",
       "      <td>AUGMENT</td>\n",
       "      <td>VIOLENCE</td>\n",
       "      <td>NaN</td>\n",
       "      <td>Fake</td>\n",
       "      <td>[photo, kerala, cop, circulated, cpm, member, ...</td>\n",
       "      <td>photo kerala cop circulated cpm member assault...</td>\n",
       "      <td>True</td>\n",
       "      <td>False</td>\n",
       "    </tr>\n",
       "    <tr>\n",
       "      <th>...</th>\n",
       "      <td>...</td>\n",
       "      <td>...</td>\n",
       "      <td>...</td>\n",
       "      <td>...</td>\n",
       "      <td>...</td>\n",
       "      <td>...</td>\n",
       "      <td>...</td>\n",
       "      <td>...</td>\n",
       "      <td>...</td>\n",
       "      <td>...</td>\n",
       "      <td>...</td>\n",
       "    </tr>\n",
       "    <tr>\n",
       "      <th>4816</th>\n",
       "      <td>40248</td>\n",
       "      <td>Job listing attributed to World Health Organis...</td>\n",
       "      <td>https://i1.wp.com/english.factcrescendo.com/wp...</td>\n",
       "      <td>FACTCRESCENDO</td>\n",
       "      <td>MISLEADING</td>\n",
       "      <td>20-Aug</td>\n",
       "      <td>Fake</td>\n",
       "      <td>[job, listing, attributed, world, health, orga...</td>\n",
       "      <td>job listing attributed world health organisati...</td>\n",
       "      <td>True</td>\n",
       "      <td>False</td>\n",
       "    </tr>\n",
       "    <tr>\n",
       "      <th>4817</th>\n",
       "      <td>6524</td>\n",
       "      <td>Arjun Rampal arrives at NCB office in Mumbai i...</td>\n",
       "      <td>https://www.thestatesman.com/wp-content/upload...</td>\n",
       "      <td>THESTATEMAN</td>\n",
       "      <td>VIOLENCE</td>\n",
       "      <td>Nov-20</td>\n",
       "      <td>TRUE</td>\n",
       "      <td>[arjun, rampal, arrives, ncb, office, mumbai, ...</td>\n",
       "      <td>arjun rampal arrives ncb office mumbai connect...</td>\n",
       "      <td>False</td>\n",
       "      <td>True</td>\n",
       "    </tr>\n",
       "    <tr>\n",
       "      <th>4818</th>\n",
       "      <td>21616</td>\n",
       "      <td>UP court sends Samajwadi Party leader Azam Kha...</td>\n",
       "      <td>https://www.thestatesman.com/wp-content/upload...</td>\n",
       "      <td>THESTATESMAN</td>\n",
       "      <td>VIOLENCE</td>\n",
       "      <td>Dec-19</td>\n",
       "      <td>TRUE</td>\n",
       "      <td>[court, sends, samajwadi, party, leader, azam,...</td>\n",
       "      <td>court sends samajwadi party leader azam khan w...</td>\n",
       "      <td>False</td>\n",
       "      <td>True</td>\n",
       "    </tr>\n",
       "    <tr>\n",
       "      <th>4819</th>\n",
       "      <td>29084</td>\n",
       "      <td>Maharashtra govt considering bringing an ordin...</td>\n",
       "      <td>https://static.theprint.in/wp-content/uploads/...</td>\n",
       "      <td>THEPRINT</td>\n",
       "      <td>GOVERNMENT</td>\n",
       "      <td>Jan-19</td>\n",
       "      <td>TRUE</td>\n",
       "      <td>[maharashtra, govt, considering, bringing, ord...</td>\n",
       "      <td>maharashtra govt considering bringing ordinanc...</td>\n",
       "      <td>False</td>\n",
       "      <td>True</td>\n",
       "    </tr>\n",
       "    <tr>\n",
       "      <th>4820</th>\n",
       "      <td>36940</td>\n",
       "      <td>Dalit leader Chandrashekhar Azad walks out of ...</td>\n",
       "      <td>https://static.theprint.in/wp-content/uploads/...</td>\n",
       "      <td>THEPRINT</td>\n",
       "      <td>GOVERNMENT</td>\n",
       "      <td>Feb-18</td>\n",
       "      <td>TRUE</td>\n",
       "      <td>[dalit, leader, chandrashekhar, azad, walks, j...</td>\n",
       "      <td>dalit leader chandrashekhar azad walks jail pr...</td>\n",
       "      <td>False</td>\n",
       "      <td>True</td>\n",
       "    </tr>\n",
       "  </tbody>\n",
       "</table>\n",
       "<p>4821 rows × 11 columns</p>\n",
       "</div>"
      ],
      "text/plain": [
       "         id                                          Statement  \\\n",
       "0     44712  Pakistani players were not checked during the ...   \n",
       "1     22071  PM Narendra Modi interacts with recipients of ...   \n",
       "2     40737  Fact Check: Pakistani website hacked by Indian...   \n",
       "3      4745  PM Modi visits LK Advani on his 93rd birthday,...   \n",
       "4     48886  Photo Of Kerala Cop Circulated As CPM Member A...   \n",
       "...     ...                                                ...   \n",
       "4816  40248  Job listing attributed to World Health Organis...   \n",
       "4817   6524  Arjun Rampal arrives at NCB office in Mumbai i...   \n",
       "4818  21616  UP court sends Samajwadi Party leader Azam Kha...   \n",
       "4819  29084  Maharashtra govt considering bringing an ordin...   \n",
       "4820  36940  Dalit leader Chandrashekhar Azad walks out of ...   \n",
       "\n",
       "                                                  Image            Web  \\\n",
       "0     https://newsmobile.in/wp-content/uploads/2019/...     NEWSMOBILE   \n",
       "1     https://www.thestatesman.com/wp-content/upload...   THESTATESMAN   \n",
       "2     https://newsmeter.in/wp-content/uploads/2020/0...      NEWSMETER   \n",
       "3     https://images.indianexpress.com/2020/11/bday....  INDIANEXPRESS   \n",
       "4      https://newsmobile.in/wp-content/uploads/2020...        AUGMENT   \n",
       "...                                                 ...            ...   \n",
       "4816  https://i1.wp.com/english.factcrescendo.com/wp...  FACTCRESCENDO   \n",
       "4817  https://www.thestatesman.com/wp-content/upload...    THESTATEMAN   \n",
       "4818  https://www.thestatesman.com/wp-content/upload...   THESTATESMAN   \n",
       "4819  https://static.theprint.in/wp-content/uploads/...       THEPRINT   \n",
       "4820  https://static.theprint.in/wp-content/uploads/...       THEPRINT   \n",
       "\n",
       "        Category    Date Label  \\\n",
       "0       ELECTION  19-Jun  Fake   \n",
       "1       POLITICS  Jan-20  TRUE   \n",
       "2       POLITICS  20-Sep  Fake   \n",
       "3       POLITICS  Nov-20  TRUE   \n",
       "4       VIOLENCE     NaN  Fake   \n",
       "...          ...     ...   ...   \n",
       "4816  MISLEADING  20-Aug  Fake   \n",
       "4817    VIOLENCE  Nov-20  TRUE   \n",
       "4818    VIOLENCE  Dec-19  TRUE   \n",
       "4819  GOVERNMENT  Jan-19  TRUE   \n",
       "4820  GOVERNMENT  Feb-18  TRUE   \n",
       "\n",
       "                                                  clean  \\\n",
       "0           [pakistani, players, checked, match, india]   \n",
       "1     [narendra, modi, interacts, recipients, rashtr...   \n",
       "2     [fact, check, pakistani, website, hacked, indi...   \n",
       "3     [modi, visits, advani, birthday, calls, ôinspi...   \n",
       "4     [photo, kerala, cop, circulated, cpm, member, ...   \n",
       "...                                                 ...   \n",
       "4816  [job, listing, attributed, world, health, orga...   \n",
       "4817  [arjun, rampal, arrives, ncb, office, mumbai, ...   \n",
       "4818  [court, sends, samajwadi, party, leader, azam,...   \n",
       "4819  [maharashtra, govt, considering, bringing, ord...   \n",
       "4820  [dalit, leader, chandrashekhar, azad, walks, j...   \n",
       "\n",
       "                                           clean_joined   Fake   TRUE  \n",
       "0                 pakistani players checked match india   True  False  \n",
       "1     narendra modi interacts recipients rashtriya b...  False   True  \n",
       "2     fact check pakistani website hacked indian cyb...   True  False  \n",
       "3       modi visits advani birthday calls ôinspirationõ  False   True  \n",
       "4     photo kerala cop circulated cpm member assault...   True  False  \n",
       "...                                                 ...    ...    ...  \n",
       "4816  job listing attributed world health organisati...   True  False  \n",
       "4817  arjun rampal arrives ncb office mumbai connect...  False   True  \n",
       "4818  court sends samajwadi party leader azam khan w...  False   True  \n",
       "4819  maharashtra govt considering bringing ordinanc...  False   True  \n",
       "4820  dalit leader chandrashekhar azad walks jail pr...  False   True  \n",
       "\n",
       "[4821 rows x 11 columns]"
      ]
     },
     "execution_count": 29,
     "metadata": {},
     "output_type": "execute_result"
    }
   ],
   "source": [
    "dummy_df = pd.get_dummies(val_df['Label'])\n",
    "val_df = pd.concat([val_df, dummy_df], axis=1)\n",
    "val_df"
   ]
  },
  {
   "cell_type": "code",
   "execution_count": 30,
   "metadata": {
    "colab": {
     "base_uri": "https://localhost:8080/",
     "height": 1000
    },
    "id": "6kJGRuRMB52s",
    "outputId": "17f0dbc5-469a-49cc-d4f8-85cd14a7aac0"
   },
   "outputs": [
    {
     "data": {
      "text/html": [
       "<div>\n",
       "<style scoped>\n",
       "    .dataframe tbody tr th:only-of-type {\n",
       "        vertical-align: middle;\n",
       "    }\n",
       "\n",
       "    .dataframe tbody tr th {\n",
       "        vertical-align: top;\n",
       "    }\n",
       "\n",
       "    .dataframe thead th {\n",
       "        text-align: right;\n",
       "    }\n",
       "</style>\n",
       "<table border=\"1\" class=\"dataframe\">\n",
       "  <thead>\n",
       "    <tr style=\"text-align: right;\">\n",
       "      <th></th>\n",
       "      <th>id</th>\n",
       "      <th>Statement</th>\n",
       "      <th>Image</th>\n",
       "      <th>Web</th>\n",
       "      <th>Category</th>\n",
       "      <th>Date</th>\n",
       "      <th>Label</th>\n",
       "      <th>clean</th>\n",
       "      <th>clean_joined</th>\n",
       "      <th>Fake</th>\n",
       "      <th>TRUE</th>\n",
       "    </tr>\n",
       "  </thead>\n",
       "  <tbody>\n",
       "    <tr>\n",
       "      <th>0</th>\n",
       "      <td>4295</td>\n",
       "      <td>ÔLove jihadÕ coined by BJP to divide nation, d...</td>\n",
       "      <td>https://images.indianexpress.com/2020/09/ashok...</td>\n",
       "      <td>INDIANEXPRESS</td>\n",
       "      <td>POLITICS</td>\n",
       "      <td>Sep-20</td>\n",
       "      <td>TRUE</td>\n",
       "      <td>[ôlove, jihadõ, coined, bjp, divide, nation, d...</td>\n",
       "      <td>ôlove jihadõ coined bjp divide nation disturb ...</td>\n",
       "      <td>False</td>\n",
       "      <td>True</td>\n",
       "    </tr>\n",
       "    <tr>\n",
       "      <th>1</th>\n",
       "      <td>2440</td>\n",
       "      <td>Kerala gangrape case: NCW takes suo moto cogni...</td>\n",
       "      <td>https://www.thestatesman.com/wp-content/upload...</td>\n",
       "      <td>THESTATESMAN</td>\n",
       "      <td>VIOLENCE</td>\n",
       "      <td>Jun-20</td>\n",
       "      <td>TRUE</td>\n",
       "      <td>[kerala, gangrape, case, ncw, takes, suo, moto...</td>\n",
       "      <td>kerala gangrape case ncw takes suo moto cogniz...</td>\n",
       "      <td>False</td>\n",
       "      <td>True</td>\n",
       "    </tr>\n",
       "    <tr>\n",
       "      <th>2</th>\n",
       "      <td>2784</td>\n",
       "      <td>Indian Railways to run Shramik Special trains ...</td>\n",
       "      <td>https://www.thestatesman.com/wp-content/upload...</td>\n",
       "      <td>THESTATESMAN</td>\n",
       "      <td>GOVERNMENT</td>\n",
       "      <td>May-20</td>\n",
       "      <td>TRUE</td>\n",
       "      <td>[indian, railways, run, shramik, special, trai...</td>\n",
       "      <td>indian railways run shramik special trains dis...</td>\n",
       "      <td>False</td>\n",
       "      <td>True</td>\n",
       "    </tr>\n",
       "    <tr>\n",
       "      <th>3</th>\n",
       "      <td>48703</td>\n",
       "      <td>Economy And Companies In 2020: Top 10 Fake Claims</td>\n",
       "      <td>https://englishtribuneimages.blob.core.window...</td>\n",
       "      <td>AUGMENT</td>\n",
       "      <td>COVID-19</td>\n",
       "      <td>NaN</td>\n",
       "      <td>Fake</td>\n",
       "      <td>[economy, companies, fake, claims]</td>\n",
       "      <td>economy companies fake claims</td>\n",
       "      <td>True</td>\n",
       "      <td>False</td>\n",
       "    </tr>\n",
       "    <tr>\n",
       "      <th>4</th>\n",
       "      <td>2752</td>\n",
       "      <td>Amid Centre vs states over migrantsÛª movemen...</td>\n",
       "      <td>https://www.thestatesman.com/wp-content/upload...</td>\n",
       "      <td>THESTATESMAN</td>\n",
       "      <td>GOVERNMENT</td>\n",
       "      <td>May-20</td>\n",
       "      <td>TRUE</td>\n",
       "      <td>[amid, centre, states, migrants, movement, tra...</td>\n",
       "      <td>amid centre states migrants movement trains un...</td>\n",
       "      <td>False</td>\n",
       "      <td>True</td>\n",
       "    </tr>\n",
       "    <tr>\n",
       "      <th>...</th>\n",
       "      <td>...</td>\n",
       "      <td>...</td>\n",
       "      <td>...</td>\n",
       "      <td>...</td>\n",
       "      <td>...</td>\n",
       "      <td>...</td>\n",
       "      <td>...</td>\n",
       "      <td>...</td>\n",
       "      <td>...</td>\n",
       "      <td>...</td>\n",
       "      <td>...</td>\n",
       "    </tr>\n",
       "    <tr>\n",
       "      <th>8502</th>\n",
       "      <td>363</td>\n",
       "      <td>To Mosul and back, Kerala ISIS manÛªs extraor...</td>\n",
       "      <td>https://images.indianexpress.com/2020/09/keral...</td>\n",
       "      <td>INDIANEXPRESS</td>\n",
       "      <td>VIOLENCE</td>\n",
       "      <td>Sep-20</td>\n",
       "      <td>TRUE</td>\n",
       "      <td>[mosul, kerala, isis, man, ûªs, extraordinary,...</td>\n",
       "      <td>mosul kerala isis man ûªs extraordinary brush ...</td>\n",
       "      <td>False</td>\n",
       "      <td>True</td>\n",
       "    </tr>\n",
       "    <tr>\n",
       "      <th>8503</th>\n",
       "      <td>13556</td>\n",
       "      <td>Labour Ministry to launch a drive to enable un...</td>\n",
       "      <td>https://cmsimages.tribuneindia.com/gallary_con...</td>\n",
       "      <td>TRIBUNEINDIA</td>\n",
       "      <td>GOVERNMENT</td>\n",
       "      <td>Jun-20</td>\n",
       "      <td>TRUE</td>\n",
       "      <td>[labour, ministry, launch, drive, enable, unre...</td>\n",
       "      <td>labour ministry launch drive enable unregister...</td>\n",
       "      <td>False</td>\n",
       "      <td>True</td>\n",
       "    </tr>\n",
       "    <tr>\n",
       "      <th>8504</th>\n",
       "      <td>17797</td>\n",
       "      <td>Delhi Police book YouTuber accused of cheating...</td>\n",
       "      <td>https://cmsimages.tribuneindia.com/gallary_con...</td>\n",
       "      <td>TRIBUNEINDIA</td>\n",
       "      <td>TERROR</td>\n",
       "      <td>Nov-20</td>\n",
       "      <td>TRUE</td>\n",
       "      <td>[delhi, police, book, youtuber, accused, cheat...</td>\n",
       "      <td>delhi police book youtuber accused cheating ôb...</td>\n",
       "      <td>False</td>\n",
       "      <td>True</td>\n",
       "    </tr>\n",
       "    <tr>\n",
       "      <th>8505</th>\n",
       "      <td>49963</td>\n",
       "      <td>Fact Check: Photo Of PM Modi Alongside A Lady ...</td>\n",
       "      <td>https://cdn.cnn.com/cnnnext/dam/assets/200817...</td>\n",
       "      <td>AUGMENT</td>\n",
       "      <td>GOVERNMENT</td>\n",
       "      <td>NaN</td>\n",
       "      <td>Fake</td>\n",
       "      <td>[fact, check, photo, modi, alongside, lady, sh...</td>\n",
       "      <td>fact check photo modi alongside lady shared cl...</td>\n",
       "      <td>True</td>\n",
       "      <td>False</td>\n",
       "    </tr>\n",
       "    <tr>\n",
       "      <th>8506</th>\n",
       "      <td>35575</td>\n",
       "      <td>Modi govt has been on a mission to finish Hurr...</td>\n",
       "      <td>https://static.theprint.in/wp-content/uploads/...</td>\n",
       "      <td>THEPRINT</td>\n",
       "      <td>GOVERNMENT</td>\n",
       "      <td>Jun-20</td>\n",
       "      <td>TRUE</td>\n",
       "      <td>[modi, govt, mission, finish, hurriyat, geelan...</td>\n",
       "      <td>modi govt mission finish hurriyat geelaniï exi...</td>\n",
       "      <td>False</td>\n",
       "      <td>True</td>\n",
       "    </tr>\n",
       "  </tbody>\n",
       "</table>\n",
       "<p>8507 rows × 11 columns</p>\n",
       "</div>"
      ],
      "text/plain": [
       "         id                                          Statement  \\\n",
       "0      4295  ÔLove jihadÕ coined by BJP to divide nation, d...   \n",
       "1      2440  Kerala gangrape case: NCW takes suo moto cogni...   \n",
       "2      2784  Indian Railways to run Shramik Special trains ...   \n",
       "3     48703  Economy And Companies In 2020: Top 10 Fake Claims   \n",
       "4      2752  Amid Centre vs states over migrantsÛª movemen...   \n",
       "...     ...                                                ...   \n",
       "8502    363  To Mosul and back, Kerala ISIS manÛªs extraor...   \n",
       "8503  13556  Labour Ministry to launch a drive to enable un...   \n",
       "8504  17797  Delhi Police book YouTuber accused of cheating...   \n",
       "8505  49963  Fact Check: Photo Of PM Modi Alongside A Lady ...   \n",
       "8506  35575  Modi govt has been on a mission to finish Hurr...   \n",
       "\n",
       "                                                  Image            Web  \\\n",
       "0     https://images.indianexpress.com/2020/09/ashok...  INDIANEXPRESS   \n",
       "1     https://www.thestatesman.com/wp-content/upload...   THESTATESMAN   \n",
       "2     https://www.thestatesman.com/wp-content/upload...   THESTATESMAN   \n",
       "3      https://englishtribuneimages.blob.core.window...        AUGMENT   \n",
       "4     https://www.thestatesman.com/wp-content/upload...   THESTATESMAN   \n",
       "...                                                 ...            ...   \n",
       "8502  https://images.indianexpress.com/2020/09/keral...  INDIANEXPRESS   \n",
       "8503  https://cmsimages.tribuneindia.com/gallary_con...   TRIBUNEINDIA   \n",
       "8504  https://cmsimages.tribuneindia.com/gallary_con...   TRIBUNEINDIA   \n",
       "8505   https://cdn.cnn.com/cnnnext/dam/assets/200817...        AUGMENT   \n",
       "8506  https://static.theprint.in/wp-content/uploads/...       THEPRINT   \n",
       "\n",
       "        Category    Date Label  \\\n",
       "0       POLITICS  Sep-20  TRUE   \n",
       "1       VIOLENCE  Jun-20  TRUE   \n",
       "2     GOVERNMENT  May-20  TRUE   \n",
       "3       COVID-19     NaN  Fake   \n",
       "4     GOVERNMENT  May-20  TRUE   \n",
       "...          ...     ...   ...   \n",
       "8502    VIOLENCE  Sep-20  TRUE   \n",
       "8503  GOVERNMENT  Jun-20  TRUE   \n",
       "8504      TERROR  Nov-20  TRUE   \n",
       "8505  GOVERNMENT     NaN  Fake   \n",
       "8506  GOVERNMENT  Jun-20  TRUE   \n",
       "\n",
       "                                                  clean  \\\n",
       "0     [ôlove, jihadõ, coined, bjp, divide, nation, d...   \n",
       "1     [kerala, gangrape, case, ncw, takes, suo, moto...   \n",
       "2     [indian, railways, run, shramik, special, trai...   \n",
       "3                    [economy, companies, fake, claims]   \n",
       "4     [amid, centre, states, migrants, movement, tra...   \n",
       "...                                                 ...   \n",
       "8502  [mosul, kerala, isis, man, ûªs, extraordinary,...   \n",
       "8503  [labour, ministry, launch, drive, enable, unre...   \n",
       "8504  [delhi, police, book, youtuber, accused, cheat...   \n",
       "8505  [fact, check, photo, modi, alongside, lady, sh...   \n",
       "8506  [modi, govt, mission, finish, hurriyat, geelan...   \n",
       "\n",
       "                                           clean_joined   Fake   TRUE  \n",
       "0     ôlove jihadõ coined bjp divide nation disturb ...  False   True  \n",
       "1     kerala gangrape case ncw takes suo moto cogniz...  False   True  \n",
       "2     indian railways run shramik special trains dis...  False   True  \n",
       "3                         economy companies fake claims   True  False  \n",
       "4     amid centre states migrants movement trains un...  False   True  \n",
       "...                                                 ...    ...    ...  \n",
       "8502  mosul kerala isis man ûªs extraordinary brush ...  False   True  \n",
       "8503  labour ministry launch drive enable unregister...  False   True  \n",
       "8504  delhi police book youtuber accused cheating ôb...  False   True  \n",
       "8505  fact check photo modi alongside lady shared cl...   True  False  \n",
       "8506  modi govt mission finish hurriyat geelaniï exi...  False   True  \n",
       "\n",
       "[8507 rows x 11 columns]"
      ]
     },
     "execution_count": 30,
     "metadata": {},
     "output_type": "execute_result"
    }
   ],
   "source": [
    "dummy_df = pd.get_dummies(test_df['Label'])\n",
    "test_df = pd.concat([test_df, dummy_df], axis=1)\n",
    "test_df"
   ]
  },
  {
   "cell_type": "code",
   "execution_count": 31,
   "metadata": {
    "colab": {
     "base_uri": "https://localhost:8080/",
     "height": 422
    },
    "id": "lg2QTmieq-uI",
    "outputId": "9d9565e7-70ae-4ec2-898e-c7226dcb8bf7"
   },
   "outputs": [
    {
     "data": {
      "image/png": "[encoded data removed]",
      "text/plain": [
       "<Figure size 500x500 with 1 Axes>"
      ]
     },
     "metadata": {},
     "output_type": "display_data"
    }
   ],
   "source": [
    "fig = plt.figure(figsize=(5, 5))\n",
    "labels = 'True', 'Fake'\n",
    "sizes = [train_df[train_df[\"Label\"]==\"TRUE\"].shape[0], train_df[train_df[\"Label\"]==\"Fake\"].shape[0]]\n",
    "plt.pie(sizes, labels=labels, autopct='%1.1f%%',\n",
    "        shadow=True, startangle=90)\n",
    "plt.axis('equal')\n",
    "plt.show()"
   ]
  },
  {
   "cell_type": "markdown",
   "metadata": {
    "id": "Zxow_k2gFK34"
   },
   "source": [
    "# LSTM"
   ]
  },
  {
   "cell_type": "code",
   "execution_count": 28,
   "metadata": {
    "colab": {
     "base_uri": "https://localhost:8080/"
    },
    "id": "v3KAxwkCFMKZ",
    "outputId": "4b83a464-7870-4eea-856f-b3dd87fa012a"
   },
   "outputs": [
    {
     "name": "stderr",
     "output_type": "stream",
     "text": [
      "2023-12-08 01:09:50.223536: I metal_plugin/src/device/metal_device.cc:1154] Metal device set to: Apple M1\n",
      "2023-12-08 01:09:50.223577: I metal_plugin/src/device/metal_device.cc:296] systemMemory: 8.00 GB\n",
      "2023-12-08 01:09:50.223583: I metal_plugin/src/device/metal_device.cc:313] maxCacheSize: 2.67 GB\n",
      "2023-12-08 01:09:50.224019: I tensorflow/core/common_runtime/pluggable_device/pluggable_device_factory.cc:303] Could not identify NUMA node of platform GPU ID 0, defaulting to 0. Your kernel may not have been built with NUMA support.\n",
      "2023-12-08 01:09:50.224398: I tensorflow/core/common_runtime/pluggable_device/pluggable_device_factory.cc:269] Created TensorFlow device (/job:localhost/replica:0/task:0/device:GPU:0 with 0 MB memory) -> physical PluggableDevice (device: 0, name: METAL, pci bus id: <undefined>)\n"
     ]
    },
    {
     "name": "stdout",
     "output_type": "stream",
     "text": [
      "Model: \"sequential\"\n",
      "_________________________________________________________________\n",
      " Layer (type)                Output Shape              Param #   \n",
      "=================================================================\n",
      " embedding (Embedding)       (None, None, 128)         4031616   \n",
      "                                                                 \n",
      " lstm (LSTM)                 (None, 128)               131584    \n",
      "                                                                 \n",
      " dense (Dense)               (None, 128)               16512     \n",
      "                                                                 \n",
      " dense_1 (Dense)             (None, 1)                 129       \n",
      "                                                                 \n",
      "=================================================================\n",
      "Total params: 4179841 (15.94 MB)\n",
      "Trainable params: 4179841 (15.94 MB)\n",
      "Non-trainable params: 0 (0.00 Byte)\n",
      "_________________________________________________________________\n",
      "None\n"
     ]
    }
   ],
   "source": [
    "model1=Sequential()\n",
    "model1.add(Embedding(total_words,output_dim = 128))\n",
    "\n",
    "model1.add(LSTM(128))\n",
    "\n",
    "model1.add(Dense(128, activation = 'relu'))\n",
    "model1.add(Dense(1,activation='sigmoid'))\n",
    "model1.compile(loss='binary_crossentropy',optimizer='adam',metrics=['accuracy'])\n",
    "print(model1.summary())"
   ]
  },
  {
   "cell_type": "code",
   "execution_count": 29,
   "metadata": {
    "colab": {
     "base_uri": "https://localhost:8080/"
    },
    "id": "_hi27_6VFTBq",
    "outputId": "24d7a02f-05cd-4773-e110-ac90f8e1294b"
   },
   "outputs": [
    {
     "data": {
      "text/plain": [
       "(array([0., 1., 0., ..., 0., 1., 1.], dtype=float32),\n",
       " array([1., 0., 0., ..., 1., 0., 0.], dtype=float32))"
      ]
     },
     "execution_count": 29,
     "metadata": {},
     "output_type": "execute_result"
    }
   ],
   "source": [
    "y_train = np.asarray(train_df['TRUE'], dtype=np.float32)\n",
    "y_val = np.asarray(val_df['TRUE'], dtype=np.float32)\n",
    "\n",
    "y_train, y_val"
   ]
  },
  {
   "cell_type": "code",
   "execution_count": 30,
   "metadata": {
    "colab": {
     "base_uri": "https://localhost:8080/"
    },
    "id": "unFl6v7oFWGK",
    "outputId": "a302ba19-3921-4cca-ff8c-5bedfa39f54f"
   },
   "outputs": [
    {
     "name": "stdout",
     "output_type": "stream",
     "text": [
      "Epoch 1/2\n"
     ]
    },
    {
     "name": "stderr",
     "output_type": "stream",
     "text": [
      "2023-12-08 01:10:05.857993: I tensorflow/core/grappler/optimizers/custom_graph_optimizer_registry.cc:114] Plugin optimizer for device_type GPU is enabled.\n",
      "2023-12-08 01:10:06.159733: I tensorflow/core/grappler/optimizers/custom_graph_optimizer_registry.cc:114] Plugin optimizer for device_type GPU is enabled.\n",
      "2023-12-08 01:10:06.501727: I tensorflow/core/grappler/optimizers/custom_graph_optimizer_registry.cc:114] Plugin optimizer for device_type GPU is enabled.\n"
     ]
    },
    {
     "name": "stdout",
     "output_type": "stream",
     "text": [
      "678/678 [==============================] - ETA: 0s - loss: 0.3575 - accuracy: 0.8725"
     ]
    },
    {
     "name": "stderr",
     "output_type": "stream",
     "text": [
      "2023-12-08 01:10:33.901539: I tensorflow/core/grappler/optimizers/custom_graph_optimizer_registry.cc:114] Plugin optimizer for device_type GPU is enabled.\n",
      "2023-12-08 01:10:34.003838: I tensorflow/core/grappler/optimizers/custom_graph_optimizer_registry.cc:114] Plugin optimizer for device_type GPU is enabled.\n"
     ]
    },
    {
     "name": "stdout",
     "output_type": "stream",
     "text": [
      "678/678 [==============================] - 30s 42ms/step - loss: 0.3575 - accuracy: 0.8725 - val_loss: 0.2851 - val_accuracy: 0.9147\n",
      "Epoch 2/2\n",
      "678/678 [==============================] - 25s 37ms/step - loss: 0.1988 - accuracy: 0.9366 - val_loss: 0.1501 - val_accuracy: 0.9486\n"
     ]
    },
    {
     "data": {
      "text/plain": [
       "<keras.src.callbacks.History at 0x29a3d19c0>"
      ]
     },
     "execution_count": 30,
     "metadata": {},
     "output_type": "execute_result"
    }
   ],
   "source": [
    "model1.fit(padded_train, y_train, batch_size = 64, validation_data=(padded_val, y_val), epochs = 2)"
   ]
  },
  {
   "cell_type": "code",
   "execution_count": 31,
   "metadata": {
    "colab": {
     "base_uri": "https://localhost:8080/"
    },
    "id": "DYgJUnciFZEB",
    "outputId": "03eaf06e-083e-46c4-850d-5c64680d88a1"
   },
   "outputs": [
    {
     "name": "stdout",
     "output_type": "stream",
     "text": [
      "1356/1356 [==============================] - 13s 9ms/step - loss: 0.1008 - accuracy: 0.9669\n"
     ]
    },
    {
     "data": {
      "text/plain": [
       "[0.10078564286231995, 0.9668556451797485]"
      ]
     },
     "execution_count": 31,
     "metadata": {},
     "output_type": "execute_result"
    }
   ],
   "source": [
    "results = model1.evaluate(padded_train, y_train)\n",
    "results"
   ]
  },
  {
   "cell_type": "code",
   "execution_count": 38,
   "metadata": {
    "colab": {
     "base_uri": "https://localhost:8080/",
     "height": 825
    },
    "id": "IM74Xa9jFbnY",
    "outputId": "52c3c3c3-e36e-4b14-9fe9-5eae91ac1292"
   },
   "outputs": [
    {
     "name": "stdout",
     "output_type": "stream",
     "text": [
      "266/266 [==============================] - 2s 7ms/step\n"
     ]
    }
   ],
   "source": [
    "prediction=(model1.predict(padded_test) > 0.5).astype(\"int32\")"
   ]
  },
  {
   "cell_type": "code",
   "execution_count": 49,
   "metadata": {},
   "outputs": [
    {
     "name": "stdout",
     "output_type": "stream",
     "text": [
      "LSTM Model Accuracy :  0.9445162807100035\n",
      "              precision    recall  f1-score   support\n",
      "\n",
      "       False       0.96      0.87      0.91      2863\n",
      "        True       0.94      0.98      0.96      5644\n",
      "\n",
      "    accuracy                           0.94      8507\n",
      "   macro avg       0.95      0.93      0.94      8507\n",
      "weighted avg       0.95      0.94      0.94      8507\n",
      "\n"
     ]
    },
    {
     "data": {
      "image/png": "[encoded data removed]",
      "text/plain": [
       "<Figure size 640x480 with 2 Axes>"
      ]
     },
     "metadata": {},
     "output_type": "display_data"
    }
   ],
   "source": [
    "# Getting The Accuracy\n",
    "from sklearn.metrics import accuracy_score\n",
    "y_test = np.asarray(test_df['TRUE'])\n",
    "\n",
    "accuracy = accuracy_score(list(y_test), prediction)\n",
    "\n",
    "print(\"LSTM Model Accuracy : \", accuracy)\n",
    "\n",
    "\n",
    "import seaborn as sns\n",
    "import matplotlib.pyplot as plt\n",
    "\n",
    "# Getting The Confusion Matrix\n",
    "from sklearn.metrics import confusion_matrix\n",
    "cm = confusion_matrix(list(y_test), prediction)\n",
    "\n",
    "df_cm = pd.DataFrame(cm, index=['Negative', 'Positive'], columns=['Negative', 'Positive'])\n",
    "plt.title(\"LSTM\\n\")\n",
    "sns.heatmap(df_cm, annot=True, fmt=\"d\", cmap=\"YlGnBu\")\n",
    "plt.ylabel(\"Actual\")\n",
    "plt.xlabel(\"Predicted\")\n",
    "\n",
    "from sklearn.metrics import classification_report\n",
    "print(classification_report(y_test, prediction))"
   ]
  },
  {
   "cell_type": "markdown",
   "metadata": {
    "id": "mLfgUVEsGeaA"
   },
   "source": [
    "# BiLSTM"
   ]
  },
  {
   "cell_type": "code",
   "execution_count": 50,
   "metadata": {
    "colab": {
     "base_uri": "https://localhost:8080/"
    },
    "id": "KwfYnoWkGhzY",
    "outputId": "f8ede5f3-cbdc-45fa-a0f0-9ab0ece50039"
   },
   "outputs": [
    {
     "name": "stdout",
     "output_type": "stream",
     "text": [
      "Model: \"sequential_1\"\n",
      "_________________________________________________________________\n",
      " Layer (type)                Output Shape              Param #   \n",
      "=================================================================\n",
      " embedding_1 (Embedding)     (None, None, 128)         4031616   \n",
      "                                                                 \n",
      " bidirectional (Bidirection  (None, 256)               263168    \n",
      " al)                                                             \n",
      "                                                                 \n",
      " dense_2 (Dense)             (None, 128)               32896     \n",
      "                                                                 \n",
      " dense_3 (Dense)             (None, 1)                 129       \n",
      "                                                                 \n",
      "=================================================================\n",
      "Total params: 4327809 (16.51 MB)\n",
      "Trainable params: 4327809 (16.51 MB)\n",
      "Non-trainable params: 0 (0.00 Byte)\n",
      "_________________________________________________________________\n"
     ]
    }
   ],
   "source": [
    "# Sequential Model\n",
    "model = Sequential()\n",
    "\n",
    "# embeddidng layer\n",
    "model.add(Embedding(total_words, output_dim = 128))\n",
    "# model.add(Embedding(total_words, output_dim = 240))\n",
    "\n",
    "\n",
    "# Bi-Directional RNN and LSTM\n",
    "model.add(Bidirectional(LSTM(128)))\n",
    "\n",
    "# Dense layers\n",
    "model.add(Dense(128, activation = 'relu'))\n",
    "model.add(Dense(1,activation= 'sigmoid'))\n",
    "model.compile(optimizer='adam', loss='binary_crossentropy', metrics=['acc'])\n",
    "model.summary()"
   ]
  },
  {
   "cell_type": "code",
   "execution_count": 51,
   "metadata": {
    "id": "7qPum7yTGsxo"
   },
   "outputs": [],
   "source": [
    "y_train = np.asarray(train_df['TRUE'])\n",
    "y_val = np.asarray(val_df['TRUE'])"
   ]
  },
  {
   "cell_type": "code",
   "execution_count": 52,
   "metadata": {
    "colab": {
     "base_uri": "https://localhost:8080/"
    },
    "id": "pcTSFCxbG3cI",
    "outputId": "b6e9690c-7969-4063-98b8-b837169ad99d"
   },
   "outputs": [
    {
     "name": "stdout",
     "output_type": "stream",
     "text": [
      "Epoch 1/2\n"
     ]
    },
    {
     "name": "stderr",
     "output_type": "stream",
     "text": [
      "2023-12-08 01:43:37.550282: I tensorflow/core/grappler/optimizers/custom_graph_optimizer_registry.cc:114] Plugin optimizer for device_type GPU is enabled.\n",
      "2023-12-08 01:43:38.008856: I tensorflow/core/grappler/optimizers/custom_graph_optimizer_registry.cc:114] Plugin optimizer for device_type GPU is enabled.\n",
      "2023-12-08 01:43:38.036985: I tensorflow/core/grappler/optimizers/custom_graph_optimizer_registry.cc:114] Plugin optimizer for device_type GPU is enabled.\n",
      "2023-12-08 01:43:38.439209: I tensorflow/core/grappler/optimizers/custom_graph_optimizer_registry.cc:114] Plugin optimizer for device_type GPU is enabled.\n",
      "2023-12-08 01:43:38.483904: I tensorflow/core/grappler/optimizers/custom_graph_optimizer_registry.cc:114] Plugin optimizer for device_type GPU is enabled.\n"
     ]
    },
    {
     "name": "stdout",
     "output_type": "stream",
     "text": [
      "678/678 [==============================] - ETA: 0s - loss: 0.2023 - acc: 0.9259"
     ]
    },
    {
     "name": "stderr",
     "output_type": "stream",
     "text": [
      "2023-12-08 01:44:14.638139: I tensorflow/core/grappler/optimizers/custom_graph_optimizer_registry.cc:114] Plugin optimizer for device_type GPU is enabled.\n",
      "2023-12-08 01:44:14.795092: I tensorflow/core/grappler/optimizers/custom_graph_optimizer_registry.cc:114] Plugin optimizer for device_type GPU is enabled.\n",
      "2023-12-08 01:44:14.815152: I tensorflow/core/grappler/optimizers/custom_graph_optimizer_registry.cc:114] Plugin optimizer for device_type GPU is enabled.\n"
     ]
    },
    {
     "name": "stdout",
     "output_type": "stream",
     "text": [
      "678/678 [==============================] - 40s 55ms/step - loss: 0.2023 - acc: 0.9259 - val_loss: 0.1506 - val_acc: 0.9484\n",
      "Epoch 2/2\n",
      "678/678 [==============================] - 36s 53ms/step - loss: 0.1044 - acc: 0.9635 - val_loss: 0.1530 - val_acc: 0.9492\n"
     ]
    },
    {
     "data": {
      "text/plain": [
       "<keras.src.callbacks.History at 0x302da1e40>"
      ]
     },
     "execution_count": 52,
     "metadata": {},
     "output_type": "execute_result"
    }
   ],
   "source": [
    "model.fit(padded_train, y_train, batch_size = 64, validation_data=(padded_val, y_val), epochs = 2)"
   ]
  },
  {
   "cell_type": "code",
   "execution_count": 53,
   "metadata": {
    "colab": {
     "base_uri": "https://localhost:8080/"
    },
    "id": "7KfYTp0AG6a4",
    "outputId": "5b4f1fa3-9023-4abc-9cc1-cf05a7e958a2"
   },
   "outputs": [
    {
     "name": "stdout",
     "output_type": "stream",
     "text": [
      "1356/1356 [==============================] - 20s 14ms/step - loss: 0.0561 - acc: 0.9803\n"
     ]
    },
    {
     "data": {
      "text/plain": [
       "[0.056116435676813126, 0.9802701473236084]"
      ]
     },
     "execution_count": 53,
     "metadata": {},
     "output_type": "execute_result"
    }
   ],
   "source": [
    "results = model.evaluate(padded_train, y_train)\n",
    "results"
   ]
  },
  {
   "cell_type": "code",
   "execution_count": 54,
   "metadata": {
    "colab": {
     "base_uri": "https://localhost:8080/",
     "height": 825
    },
    "id": "QsSolOypG_9A",
    "outputId": "45753d1d-6fdd-4449-a135-d9804278eecc"
   },
   "outputs": [
    {
     "name": "stderr",
     "output_type": "stream",
     "text": [
      "2023-12-08 01:45:12.845007: I tensorflow/core/grappler/optimizers/custom_graph_optimizer_registry.cc:114] Plugin optimizer for device_type GPU is enabled.\n",
      "2023-12-08 01:45:12.974257: I tensorflow/core/grappler/optimizers/custom_graph_optimizer_registry.cc:114] Plugin optimizer for device_type GPU is enabled.\n",
      "2023-12-08 01:45:12.994286: I tensorflow/core/grappler/optimizers/custom_graph_optimizer_registry.cc:114] Plugin optimizer for device_type GPU is enabled.\n"
     ]
    },
    {
     "name": "stdout",
     "output_type": "stream",
     "text": [
      "266/266 [==============================] - 4s 10ms/step\n",
      "BiLSTM Model Accuracy :  0.9467497355119313\n",
      "              precision    recall  f1-score   support\n",
      "\n",
      "       False       0.95      0.89      0.92      2863\n",
      "        True       0.94      0.98      0.96      5644\n",
      "\n",
      "    accuracy                           0.95      8507\n",
      "   macro avg       0.95      0.93      0.94      8507\n",
      "weighted avg       0.95      0.95      0.95      8507\n",
      "\n"
     ]
    },
    {
     "data": {
      "image/png": "[encoded data removed]",
      "text/plain": [
       "<Figure size 640x480 with 2 Axes>"
      ]
     },
     "metadata": {},
     "output_type": "display_data"
    }
   ],
   "source": [
    "prediction=(model.predict(padded_test) > 0.5).astype(\"int32\")\n",
    "\n",
    "# Getting The Accuracy\n",
    "from sklearn.metrics import accuracy_score\n",
    "y_test = np.asarray(test_df['TRUE'])\n",
    "\n",
    "accuracy = accuracy_score(list(y_test), prediction)\n",
    "\n",
    "print(\"BiLSTM Model Accuracy : \", accuracy)\n",
    "\n",
    "\n",
    "import seaborn as sns\n",
    "import matplotlib.pyplot as plt\n",
    "\n",
    "# Getting The Confusion Matrix\n",
    "from sklearn.metrics import confusion_matrix\n",
    "cm = confusion_matrix(list(y_test), prediction)\n",
    "\n",
    "df_cm = pd.DataFrame(cm, index=['Negative', 'Positive'], columns=['Negative', 'Positive'])\n",
    "plt.title(\"BiLSTM\\n\")\n",
    "sns.heatmap(df_cm, annot=True, fmt=\"d\", cmap=\"YlGnBu\")\n",
    "plt.ylabel(\"Actual\")\n",
    "plt.xlabel(\"Predicted\")\n",
    "\n",
    "from sklearn.metrics import classification_report\n",
    "print(classification_report(y_test, prediction))"
   ]
  },
  {
   "cell_type": "markdown",
   "metadata": {
    "id": "fqmt0wUgSKkE"
   },
   "source": [
    "# CNN + LSTM"
   ]
  },
  {
   "cell_type": "code",
   "execution_count": 55,
   "metadata": {
    "colab": {
     "base_uri": "https://localhost:8080/"
    },
    "id": "uSMOBe7dSSB0",
    "outputId": "bdd23722-6bfe-42f4-d7da-0385ef7a2c6f"
   },
   "outputs": [
    {
     "name": "stdout",
     "output_type": "stream",
     "text": [
      "Model: \"sequential_2\"\n",
      "_________________________________________________________________\n",
      " Layer (type)                Output Shape              Param #   \n",
      "=================================================================\n",
      " embedding_2 (Embedding)     (None, None, 128)         4031616   \n",
      "                                                                 \n",
      " conv1d (Conv1D)             (None, None, 32)          20512     \n",
      "                                                                 \n",
      " max_pooling1d (MaxPooling1  (None, None, 32)          0         \n",
      " D)                                                              \n",
      "                                                                 \n",
      " lstm_2 (LSTM)               (None, 128)               82432     \n",
      "                                                                 \n",
      " dense_4 (Dense)             (None, 128)               16512     \n",
      "                                                                 \n",
      " dense_5 (Dense)             (None, 1)                 129       \n",
      "                                                                 \n",
      "=================================================================\n",
      "Total params: 4151201 (15.84 MB)\n",
      "Trainable params: 4151201 (15.84 MB)\n",
      "Non-trainable params: 0 (0.00 Byte)\n",
      "_________________________________________________________________\n",
      "None\n"
     ]
    }
   ],
   "source": [
    "model4=Sequential()\n",
    "model4.add(Embedding(total_words, output_dim = 128))\n",
    "\n",
    "model4.add(Conv1D(32, 5, activation='relu'))\n",
    "model4.add(MaxPool1D())\n",
    "\n",
    "model4.add(LSTM(128))\n",
    "\n",
    "model4.add(Dense(128, activation = 'relu'))\n",
    "model4.add(Dense(1,activation='sigmoid'))\n",
    "model4.compile(optimizer='adam', loss='binary_crossentropy', metrics=['acc'])\n",
    "print(model4.summary())"
   ]
  },
  {
   "cell_type": "code",
   "execution_count": 56,
   "metadata": {
    "colab": {
     "base_uri": "https://localhost:8080/"
    },
    "id": "Yp-R5s19SV3N",
    "outputId": "7c95bf27-266c-43b0-fb75-7e08900846e7"
   },
   "outputs": [
    {
     "name": "stdout",
     "output_type": "stream",
     "text": [
      "Epoch 1/2\n"
     ]
    },
    {
     "name": "stderr",
     "output_type": "stream",
     "text": [
      "2023-12-08 01:45:17.060478: I tensorflow/core/grappler/optimizers/custom_graph_optimizer_registry.cc:114] Plugin optimizer for device_type GPU is enabled.\n",
      "2023-12-08 01:45:17.429205: I tensorflow/core/grappler/optimizers/custom_graph_optimizer_registry.cc:114] Plugin optimizer for device_type GPU is enabled.\n",
      "2023-12-08 01:45:17.774140: I tensorflow/core/grappler/optimizers/custom_graph_optimizer_registry.cc:114] Plugin optimizer for device_type GPU is enabled.\n"
     ]
    },
    {
     "name": "stdout",
     "output_type": "stream",
     "text": [
      "678/678 [==============================] - ETA: 0s - loss: 0.2114 - acc: 0.9231"
     ]
    },
    {
     "name": "stderr",
     "output_type": "stream",
     "text": [
      "2023-12-08 01:45:43.663311: I tensorflow/core/grappler/optimizers/custom_graph_optimizer_registry.cc:114] Plugin optimizer for device_type GPU is enabled.\n",
      "2023-12-08 01:45:43.810690: I tensorflow/core/grappler/optimizers/custom_graph_optimizer_registry.cc:114] Plugin optimizer for device_type GPU is enabled.\n"
     ]
    },
    {
     "name": "stdout",
     "output_type": "stream",
     "text": [
      "678/678 [==============================] - 29s 39ms/step - loss: 0.2114 - acc: 0.9231 - val_loss: 0.1479 - val_acc: 0.9529\n",
      "Epoch 2/2\n",
      "678/678 [==============================] - 23s 34ms/step - loss: 0.0928 - acc: 0.9704 - val_loss: 0.1462 - val_acc: 0.9521\n"
     ]
    },
    {
     "data": {
      "text/plain": [
       "<keras.src.callbacks.History at 0x303433d00>"
      ]
     },
     "execution_count": 56,
     "metadata": {},
     "output_type": "execute_result"
    }
   ],
   "source": [
    "y_train = np.asarray(train_df['TRUE'])\n",
    "y_val = np.asarray(val_df['TRUE'])\n",
    "\n",
    "model4.fit(padded_train, y_train, batch_size = 64, validation_data=(padded_val, y_val), epochs = 2)"
   ]
  },
  {
   "cell_type": "code",
   "execution_count": 57,
   "metadata": {
    "colab": {
     "base_uri": "https://localhost:8080/"
    },
    "id": "xDQ3M4SpSex1",
    "outputId": "298f3bff-f87b-45bd-a943-022c8b65d01d"
   },
   "outputs": [
    {
     "name": "stdout",
     "output_type": "stream",
     "text": [
      "1356/1356 [==============================] - 12s 9ms/step - loss: 0.0536 - acc: 0.9854\n"
     ]
    },
    {
     "data": {
      "text/plain": [
       "[0.053594719618558884, 0.9854331016540527]"
      ]
     },
     "execution_count": 57,
     "metadata": {},
     "output_type": "execute_result"
    }
   ],
   "source": [
    "results = model4.evaluate(padded_train, y_train)\n",
    "results"
   ]
  },
  {
   "cell_type": "code",
   "execution_count": 58,
   "metadata": {
    "colab": {
     "base_uri": "https://localhost:8080/",
     "height": 825
    },
    "id": "KNExqhsXSlSF",
    "outputId": "ed241fae-2555-4183-9b1a-37c407eb69e8"
   },
   "outputs": [
    {
     "name": "stderr",
     "output_type": "stream",
     "text": [
      "2023-12-08 01:46:20.803358: I tensorflow/core/grappler/optimizers/custom_graph_optimizer_registry.cc:114] Plugin optimizer for device_type GPU is enabled.\n",
      "2023-12-08 01:46:20.923008: I tensorflow/core/grappler/optimizers/custom_graph_optimizer_registry.cc:114] Plugin optimizer for device_type GPU is enabled.\n"
     ]
    },
    {
     "name": "stdout",
     "output_type": "stream",
     "text": [
      "266/266 [==============================] - 2s 6ms/step\n",
      "CNN + LSTM Model Accuracy :  0.9495709415775244\n",
      "              precision    recall  f1-score   support\n",
      "\n",
      "       False       0.94      0.91      0.92      2863\n",
      "        True       0.95      0.97      0.96      5644\n",
      "\n",
      "    accuracy                           0.95      8507\n",
      "   macro avg       0.95      0.94      0.94      8507\n",
      "weighted avg       0.95      0.95      0.95      8507\n",
      "\n"
     ]
    },
    {
     "data": {
      "image/png": "[encoded data removed]",
      "text/plain": [
       "<Figure size 640x480 with 2 Axes>"
      ]
     },
     "metadata": {},
     "output_type": "display_data"
    }
   ],
   "source": [
    "prediction=(model4.predict(padded_test) > 0.5).astype(\"int32\")\n",
    "\n",
    "# Getting The Accuracy\n",
    "from sklearn.metrics import accuracy_score\n",
    "y_test = np.asarray(test_df['TRUE'])\n",
    "\n",
    "accuracy = accuracy_score(list(y_test), prediction)\n",
    "\n",
    "print(\"CNN + LSTM Model Accuracy : \", accuracy)\n",
    "\n",
    "\n",
    "import seaborn as sns\n",
    "import matplotlib.pyplot as plt\n",
    "\n",
    "# Getting The Confusion Matrix\n",
    "from sklearn.metrics import confusion_matrix\n",
    "cm = confusion_matrix(list(y_test), prediction)\n",
    "\n",
    "df_cm = pd.DataFrame(cm, index=['Negative', 'Positive'], columns=['Negative', 'Positive'])\n",
    "plt.title(\"CNN+LSTM\\n\")\n",
    "sns.heatmap(df_cm, annot=True, fmt=\"d\", cmap=\"YlGnBu\")\n",
    "plt.ylabel(\"Actual\")\n",
    "plt.xlabel(\"Predicted\")\n",
    "\n",
    "from sklearn.metrics import classification_report\n",
    "print(classification_report(y_test, prediction))"
   ]
  },
  {
   "cell_type": "markdown",
   "metadata": {
    "id": "wVCut_ExUK7K"
   },
   "source": [
    "# CNN + BiLSTM"
   ]
  },
  {
   "cell_type": "code",
   "execution_count": 59,
   "metadata": {
    "colab": {
     "base_uri": "https://localhost:8080/"
    },
    "id": "WjflkhSWUMFE",
    "outputId": "709c16dc-9336-4df8-d5fe-1e48bdc3325d"
   },
   "outputs": [
    {
     "name": "stdout",
     "output_type": "stream",
     "text": [
      "Model: \"sequential_3\"\n",
      "_________________________________________________________________\n",
      " Layer (type)                Output Shape              Param #   \n",
      "=================================================================\n",
      " embedding_3 (Embedding)     (None, None, 128)         4031616   \n",
      "                                                                 \n",
      " conv1d_1 (Conv1D)           (None, None, 32)          20512     \n",
      "                                                                 \n",
      " max_pooling1d_1 (MaxPoolin  (None, None, 32)          0         \n",
      " g1D)                                                            \n",
      "                                                                 \n",
      " bidirectional_1 (Bidirecti  (None, 256)               164864    \n",
      " onal)                                                           \n",
      "                                                                 \n",
      " dense_6 (Dense)             (None, 128)               32896     \n",
      "                                                                 \n",
      " dense_7 (Dense)             (None, 1)                 129       \n",
      "                                                                 \n",
      "=================================================================\n",
      "Total params: 4250017 (16.21 MB)\n",
      "Trainable params: 4250017 (16.21 MB)\n",
      "Non-trainable params: 0 (0.00 Byte)\n",
      "_________________________________________________________________\n",
      "None\n"
     ]
    }
   ],
   "source": [
    "model3=Sequential()\n",
    "model3.add(Embedding(total_words, output_dim = 128))\n",
    "\n",
    "model3.add(Conv1D(32, 5, activation='relu'))\n",
    "model3.add(MaxPool1D())\n",
    "\n",
    "model3.add(Bidirectional(LSTM(128)))\n",
    "\n",
    "model3.add(Dense(128, activation = 'relu'))\n",
    "model3.add(Dense(1,activation='sigmoid'))\n",
    "model3.compile(loss='binary_crossentropy',optimizer='adam',metrics=['accuracy'])\n",
    "print(model3.summary())"
   ]
  },
  {
   "cell_type": "code",
   "execution_count": 60,
   "metadata": {
    "colab": {
     "base_uri": "https://localhost:8080/"
    },
    "id": "QRSSn2Z_UR-r",
    "outputId": "cb8b946f-23dc-43f4-ec80-64bc2bd66156"
   },
   "outputs": [
    {
     "name": "stdout",
     "output_type": "stream",
     "text": [
      "Epoch 1/2\n"
     ]
    },
    {
     "name": "stderr",
     "output_type": "stream",
     "text": [
      "2023-12-08 01:46:24.556439: I tensorflow/core/grappler/optimizers/custom_graph_optimizer_registry.cc:114] Plugin optimizer for device_type GPU is enabled.\n",
      "2023-12-08 01:46:25.057757: I tensorflow/core/grappler/optimizers/custom_graph_optimizer_registry.cc:114] Plugin optimizer for device_type GPU is enabled.\n",
      "2023-12-08 01:46:25.084587: I tensorflow/core/grappler/optimizers/custom_graph_optimizer_registry.cc:114] Plugin optimizer for device_type GPU is enabled.\n",
      "2023-12-08 01:46:25.482783: I tensorflow/core/grappler/optimizers/custom_graph_optimizer_registry.cc:114] Plugin optimizer for device_type GPU is enabled.\n",
      "2023-12-08 01:46:25.524534: I tensorflow/core/grappler/optimizers/custom_graph_optimizer_registry.cc:114] Plugin optimizer for device_type GPU is enabled.\n"
     ]
    },
    {
     "name": "stdout",
     "output_type": "stream",
     "text": [
      "678/678 [==============================] - ETA: 0s - loss: 0.2069 - accuracy: 0.9229"
     ]
    },
    {
     "name": "stderr",
     "output_type": "stream",
     "text": [
      "2023-12-08 01:47:00.785341: I tensorflow/core/grappler/optimizers/custom_graph_optimizer_registry.cc:114] Plugin optimizer for device_type GPU is enabled.\n",
      "2023-12-08 01:47:00.996627: I tensorflow/core/grappler/optimizers/custom_graph_optimizer_registry.cc:114] Plugin optimizer for device_type GPU is enabled.\n",
      "2023-12-08 01:47:01.017900: I tensorflow/core/grappler/optimizers/custom_graph_optimizer_registry.cc:114] Plugin optimizer for device_type GPU is enabled.\n"
     ]
    },
    {
     "name": "stdout",
     "output_type": "stream",
     "text": [
      "678/678 [==============================] - 39s 54ms/step - loss: 0.2069 - accuracy: 0.9229 - val_loss: 0.1435 - val_accuracy: 0.9525\n",
      "Epoch 2/2\n",
      "678/678 [==============================] - 31s 46ms/step - loss: 0.0918 - accuracy: 0.9680 - val_loss: 0.1576 - val_accuracy: 0.9479\n"
     ]
    },
    {
     "data": {
      "text/plain": [
       "<keras.src.callbacks.History at 0x361466fb0>"
      ]
     },
     "execution_count": 60,
     "metadata": {},
     "output_type": "execute_result"
    }
   ],
   "source": [
    "y_train = np.asarray(train_df['TRUE'])\n",
    "y_val = np.asarray(val_df['TRUE'])\n",
    "\n",
    "model3.fit(padded_train, y_train, batch_size = 64, validation_data=(padded_val, y_val), epochs = 2)"
   ]
  },
  {
   "cell_type": "code",
   "execution_count": 61,
   "metadata": {
    "id": "Jrx8MDadUWpS"
   },
   "outputs": [
    {
     "name": "stdout",
     "output_type": "stream",
     "text": [
      "1356/1356 [==============================] - 18s 13ms/step - loss: 0.0510 - accuracy: 0.9816\n"
     ]
    },
    {
     "data": {
      "text/plain": [
       "[0.050996553152799606, 0.9815838932991028]"
      ]
     },
     "execution_count": 61,
     "metadata": {},
     "output_type": "execute_result"
    }
   ],
   "source": [
    "results = model3.evaluate(padded_train, y_train)\n",
    "results"
   ]
  },
  {
   "cell_type": "code",
   "execution_count": 62,
   "metadata": {
    "id": "Tib4NirLYyzU"
   },
   "outputs": [
    {
     "name": "stderr",
     "output_type": "stream",
     "text": [
      "2023-12-08 01:47:51.626939: I tensorflow/core/grappler/optimizers/custom_graph_optimizer_registry.cc:114] Plugin optimizer for device_type GPU is enabled.\n",
      "2023-12-08 01:47:51.797978: I tensorflow/core/grappler/optimizers/custom_graph_optimizer_registry.cc:114] Plugin optimizer for device_type GPU is enabled.\n",
      "2023-12-08 01:47:51.817512: I tensorflow/core/grappler/optimizers/custom_graph_optimizer_registry.cc:114] Plugin optimizer for device_type GPU is enabled.\n"
     ]
    },
    {
     "name": "stdout",
     "output_type": "stream",
     "text": [
      "266/266 [==============================] - 3s 10ms/step\n",
      "CNN+BiLSTM Model Accuracy :  0.9445162807100035\n",
      "              precision    recall  f1-score   support\n",
      "\n",
      "       False       0.94      0.89      0.92      2863\n",
      "        True       0.94      0.97      0.96      5644\n",
      "\n",
      "    accuracy                           0.94      8507\n",
      "   macro avg       0.94      0.93      0.94      8507\n",
      "weighted avg       0.94      0.94      0.94      8507\n",
      "\n"
     ]
    },
    {
     "data": {
      "image/png": "[encoded data removed]",
      "text/plain": [
       "<Figure size 640x480 with 2 Axes>"
      ]
     },
     "metadata": {},
     "output_type": "display_data"
    }
   ],
   "source": [
    "prediction=(model3.predict(padded_test) > 0.5).astype(\"int32\")\n",
    "\n",
    "# Getting The Accuracy\n",
    "from sklearn.metrics import accuracy_score\n",
    "y_test = np.asarray(test_df['TRUE'])\n",
    "\n",
    "accuracy = accuracy_score(list(y_test), prediction)\n",
    "\n",
    "print(\"CNN+BiLSTM Model Accuracy : \", accuracy)\n",
    "\n",
    "import seaborn as sns\n",
    "import matplotlib.pyplot as plt\n",
    "\n",
    "# Getting The Confusion Matrix\n",
    "from sklearn.metrics import confusion_matrix\n",
    "cm = confusion_matrix(list(y_test), prediction)\n",
    "\n",
    "df_cm = pd.DataFrame(cm, index=['Negative', 'Positive'], columns=['Negative', 'Positive'])\n",
    "plt.title(\"CNN+BiLSTM\\n\")\n",
    "sns.heatmap(df_cm, annot=True, fmt=\"d\", cmap=\"YlGnBu\")\n",
    "plt.ylabel(\"Actual\")\n",
    "plt.xlabel(\"Predicted\")\n",
    "\n",
    "from sklearn.metrics import classification_report\n",
    "print(classification_report(y_test, prediction))"
   ]
  },
  {
   "cell_type": "markdown",
   "metadata": {
    "id": "xTtqnCIWE1f8"
   },
   "source": [
    "# BERT"
   ]
  },
  {
   "cell_type": "code",
   "execution_count": 1,
   "metadata": {
    "id": "ROMmLnVOE0rp"
   },
   "outputs": [
    {
     "name": "stdout",
     "output_type": "stream",
     "text": [
      "Requirement already satisfied: transformers in /Users/umarkhan/miniconda3/envs/tensorflow/lib/python3.10/site-packages (4.35.2)\n",
      "Requirement already satisfied: filelock in /Users/umarkhan/miniconda3/envs/tensorflow/lib/python3.10/site-packages (from transformers) (3.12.4)\n",
      "Requirement already satisfied: huggingface-hub<1.0,>=0.16.4 in /Users/umarkhan/miniconda3/envs/tensorflow/lib/python3.10/site-packages (from transformers) (0.19.4)\n",
      "Requirement already satisfied: numpy>=1.17 in /Users/umarkhan/miniconda3/envs/tensorflow/lib/python3.10/site-packages (from transformers) (1.24.3)\n",
      "Requirement already satisfied: packaging>=20.0 in /Users/umarkhan/miniconda3/envs/tensorflow/lib/python3.10/site-packages (from transformers) (23.1)\n",
      "Requirement already satisfied: pyyaml>=5.1 in /Users/umarkhan/miniconda3/envs/tensorflow/lib/python3.10/site-packages (from transformers) (6.0.1)\n",
      "Requirement already satisfied: regex!=2019.12.17 in /Users/umarkhan/miniconda3/envs/tensorflow/lib/python3.10/site-packages (from transformers) (2023.10.3)\n",
      "Requirement already satisfied: requests in /Users/umarkhan/miniconda3/envs/tensorflow/lib/python3.10/site-packages (from transformers) (2.31.0)\n",
      "Requirement already satisfied: tokenizers<0.19,>=0.14 in /Users/umarkhan/miniconda3/envs/tensorflow/lib/python3.10/site-packages (from transformers) (0.15.0)\n",
      "Requirement already satisfied: safetensors>=0.3.1 in /Users/umarkhan/miniconda3/envs/tensorflow/lib/python3.10/site-packages (from transformers) (0.4.1)\n",
      "Requirement already satisfied: tqdm>=4.27 in /Users/umarkhan/miniconda3/envs/tensorflow/lib/python3.10/site-packages (from transformers) (4.66.1)\n",
      "Requirement already satisfied: fsspec>=2023.5.0 in /Users/umarkhan/miniconda3/envs/tensorflow/lib/python3.10/site-packages (from huggingface-hub<1.0,>=0.16.4->transformers) (2023.12.1)\n",
      "Requirement already satisfied: typing-extensions>=3.7.4.3 in /Users/umarkhan/miniconda3/envs/tensorflow/lib/python3.10/site-packages (from huggingface-hub<1.0,>=0.16.4->transformers) (4.5.0)\n",
      "Requirement already satisfied: charset-normalizer<4,>=2 in /Users/umarkhan/miniconda3/envs/tensorflow/lib/python3.10/site-packages (from requests->transformers) (3.2.0)\n",
      "Requirement already satisfied: idna<4,>=2.5 in /Users/umarkhan/miniconda3/envs/tensorflow/lib/python3.10/site-packages (from requests->transformers) (3.4)\n",
      "Requirement already satisfied: urllib3<3,>=1.21.1 in /Users/umarkhan/miniconda3/envs/tensorflow/lib/python3.10/site-packages (from requests->transformers) (1.26.15)\n",
      "Requirement already satisfied: certifi>=2017.4.17 in /Users/umarkhan/miniconda3/envs/tensorflow/lib/python3.10/site-packages (from requests->transformers) (2023.7.22)\n"
     ]
    }
   ],
   "source": [
    "! pip install transformers"
   ]
  },
  {
   "cell_type": "code",
   "execution_count": 32,
   "metadata": {
    "colab": {
     "base_uri": "https://localhost:8080/"
    },
    "id": "6QoTfgIPkpx4",
    "outputId": "9e202f7e-8a03-4958-9b6b-da2c193358f6"
   },
   "outputs": [
    {
     "name": "stderr",
     "output_type": "stream",
     "text": [
      "Some weights of the PyTorch model were not used when initializing the TF 2.0 model TFDistilBertForSequenceClassification: ['vocab_layer_norm.weight', 'vocab_transform.bias', 'vocab_transform.weight', 'vocab_layer_norm.bias', 'vocab_projector.bias']\n",
      "- This IS expected if you are initializing TFDistilBertForSequenceClassification from a PyTorch model trained on another task or with another architecture (e.g. initializing a TFBertForSequenceClassification model from a BertForPreTraining model).\n",
      "- This IS NOT expected if you are initializing TFDistilBertForSequenceClassification from a PyTorch model that you expect to be exactly identical (e.g. initializing a TFBertForSequenceClassification model from a BertForSequenceClassification model).\n",
      "Some weights or buffers of the TF 2.0 model TFDistilBertForSequenceClassification were not initialized from the PyTorch model and are newly initialized: ['pre_classifier.weight', 'pre_classifier.bias', 'classifier.weight', 'classifier.bias']\n",
      "You should probably TRAIN this model on a down-stream task to be able to use it for predictions and inference.\n",
      "Some weights of the PyTorch model were not used when initializing the TF 2.0 model TFDistilBertForSequenceClassification: ['vocab_layer_norm.weight', 'vocab_transform.bias', 'vocab_transform.weight', 'vocab_layer_norm.bias', 'vocab_projector.bias']\n",
      "- This IS expected if you are initializing TFDistilBertForSequenceClassification from a PyTorch model trained on another task or with another architecture (e.g. initializing a TFBertForSequenceClassification model from a BertForPreTraining model).\n",
      "- This IS NOT expected if you are initializing TFDistilBertForSequenceClassification from a PyTorch model that you expect to be exactly identical (e.g. initializing a TFBertForSequenceClassification model from a BertForSequenceClassification model).\n",
      "Some weights or buffers of the TF 2.0 model TFDistilBertForSequenceClassification were not initialized from the PyTorch model and are newly initialized: ['pre_classifier.weight', 'pre_classifier.bias', 'classifier.weight', 'classifier.bias']\n",
      "You should probably TRAIN this model on a down-stream task to be able to use it for predictions and inference.\n",
      "/Users/umarkhan/miniconda3/envs/tensorflow/lib/python3.10/site-packages/transformers/trainer_tf.py:118: FutureWarning: The class `TFTrainer` is deprecated and will be removed in version 5 of Transformers. We recommend using native Keras instead, by calling methods like `fit()` and `predict()` directly on the model object. Detailed examples of the Keras style can be found in our examples at https://github.com/huggingface/transformers/tree/main/examples/tensorflow\n",
      "  warnings.warn(\n"
     ]
    }
   ],
   "source": [
    "from transformers import BertTokenizer, TFBertForSequenceClassification, TFTrainer, TFTrainingArguments\n",
    "from transformers import DistilBertTokenizer\n",
    "from transformers import TFDistilBertForSequenceClassification\n",
    "from transformers import TFDistilBertForSequenceClassification, TFTrainer, TFTrainingArguments\n",
    "from sklearn.metrics import accuracy_score, precision_recall_fscore_support\n",
    "\n",
    "# Define a function to compute metrics\n",
    "def compute_metrics(p):\n",
    "    predictions, labels = p\n",
    "\n",
    "    accuracy = accuracy_score(labels, predictions.argmax(axis=1))\n",
    "    precision, recall, f1, _ = precision_recall_fscore_support(labels, predictions.argmax(axis=1), average='weighted')\n",
    "\n",
    "    return {\n",
    "        'accuracy': accuracy,\n",
    "        'precision': precision,\n",
    "        'recall': recall,\n",
    "        'f1': f1\n",
    "    }\n",
    "\n",
    "model = TFDistilBertForSequenceClassification.from_pretrained('distilbert-base-uncased', num_labels=2)\n",
    "\n",
    "train_texts = train_df['clean_joined'].tolist()\n",
    "test_texts = test_df['clean_joined'].tolist()\n",
    "\n",
    "tokenizer = DistilBertTokenizer.from_pretrained('distilbert-base-uncased')\n",
    "\n",
    "train_encodings = tokenizer(train_texts, truncation = True, padding = True  )\n",
    "test_encodings = tokenizer(test_texts, truncation=True, padding=True )\n",
    "\n",
    "train_labels = tf.convert_to_tensor(train_df['TRUE'].tolist())\n",
    "test_labels = tf.convert_to_tensor(test_df['TRUE'].tolist())\n",
    "\n",
    "train_dataset = tf.data.Dataset.from_tensor_slices((dict(train_encodings), train_labels))\n",
    "test_dataset = tf.data.Dataset.from_tensor_slices((dict(test_encodings), test_labels))\n",
    "\n",
    "\n",
    "training_args = TFTrainingArguments(\n",
    "    output_dir='./results',\n",
    "    num_train_epochs=2,\n",
    "    per_device_train_batch_size=16,\n",
    "    per_device_eval_batch_size=64,\n",
    "    warmup_steps=500,\n",
    "    weight_decay=1e-5,\n",
    "    logging_dir='./logs',\n",
    "    eval_steps=100\n",
    ")\n",
    "\n",
    "with training_args.strategy.scope():\n",
    "    trainer_model = TFDistilBertForSequenceClassification.from_pretrained('distilbert-base-uncased', num_labels = 2 )\n",
    "\n",
    "trainer = TFTrainer(\n",
    "    model=trainer_model,\n",
    "    args=training_args,\n",
    "    train_dataset=train_dataset,\n",
    "    eval_dataset=test_dataset,\n",
    "    compute_metrics=compute_metrics\n",
    ")"
   ]
  }
 ],
 "metadata": {
  "accelerator": "GPU",
  "colab": {
   "provenance": []
  },
  "kernelspec": {
   "display_name": "Python 3 (ipykernel)",
   "language": "python",
   "name": "python3"
  },
  "language_info": {
   "codemirror_mode": {
    "name": "ipython",
    "version": 3
   },
   "file_extension": ".py",
   "mimetype": "text/x-python",
   "name": "python",
   "nbconvert_exporter": "python",
   "pygments_lexer": "ipython3",
   "version": "3.10.12"
  }
 },
 "nbformat": 4,
 "nbformat_minor": 1
}
